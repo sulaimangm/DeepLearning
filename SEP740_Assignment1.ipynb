{
  "nbformat": 4,
  "nbformat_minor": 0,
  "metadata": {
    "colab": {
      "provenance": []
    },
    "kernelspec": {
      "name": "python3",
      "display_name": "Python 3"
    },
    "language_info": {
      "name": "python"
    }
  },
  "cells": [
    {
      "cell_type": "markdown",
      "source": [
        "# SEP 740 - Assignment 1"
      ],
      "metadata": {
        "id": "hbwSRbjqAGxR"
      }
    },
    {
      "cell_type": "markdown",
      "source": [
        "In this assignment, you will work on solving a common type of problem in deep learning: _Classificaion_\n",
        "\n",
        "We will solve the MNIST classification task. The MNIST dataset is a widely used dataset for image recognition and classification tasks. It consists of a training set of 60,000 28x28 grayscale images of handwritten digits (0-9) and a test set of 10,000 images. Each image is labeled with the corresponding digit it represents. The dataset is commonly used as a benchmark for image recognition and classification algorithms and has been widely used in machine learning and computer vision research."
      ],
      "metadata": {
        "id": "sCNOkPL7lQJk"
      }
    },
    {
      "cell_type": "markdown",
      "source": [
        "# MNIST Classification Task"
      ],
      "metadata": {
        "id": "Sxxs2U6Oojsr"
      }
    },
    {
      "cell_type": "markdown",
      "source": [
        "### Import Libraries and Load the dataset"
      ],
      "metadata": {
        "id": "U2vrltFHopJJ"
      }
    },
    {
      "cell_type": "code",
      "source": [
        "import numpy as np         \n",
        "import pandas as pd\n",
        "import matplotlib.pyplot as plt      \n",
        "import random\n",
        "import tensorflow as tf\n",
        "from tensorflow import keras                     \n",
        "\n",
        "from keras.datasets import mnist     \n",
        "from keras.models import Sequential  \n",
        "\n",
        "from keras.layers.core import Dense, Dropout, Activation \n",
        "from keras.utils import np_utils \n",
        "\n",
        "from sklearn.model_selection import GridSearchCV, train_test_split\n",
        "from sklearn.metrics import precision_recall_fscore_support as score\n",
        "from tensorflow.python.keras.wrappers.scikit_learn import KerasClassifier\n",
        "from tensorflow.python.keras.utils.np_utils import to_categorical\n",
        "\n",
        "from tensorflow.keras.datasets import mnist"
      ],
      "metadata": {
        "id": "xMb1LdYfo3ge"
      },
      "execution_count": 37,
      "outputs": []
    },
    {
      "cell_type": "code",
      "source": [
        "(x_train, y_train), (x_test, y_test) = mnist.load_data(path=\"mnist.npz\")\n",
        "print('Samples in the training set:', x_train.shape[0])\n",
        "print('Samples in the test set:', y_test.shape[0])"
      ],
      "metadata": {
        "colab": {
          "base_uri": "https://localhost:8080/"
        },
        "id": "K8Z_A0VmpE-L",
        "outputId": "cc3b7629-15c1-4d86-faf0-5966ab774593"
      },
      "execution_count": 38,
      "outputs": [
        {
          "output_type": "stream",
          "name": "stdout",
          "text": [
            "Samples in the training set: 60000\n",
            "Samples in the test set: 10000\n"
          ]
        }
      ]
    },
    {
      "cell_type": "markdown",
      "source": [
        "### An example of the MNIST training set"
      ],
      "metadata": {
        "id": "SF0sc0aFp4Oq"
      }
    },
    {
      "cell_type": "code",
      "source": [
        "from matplotlib import pyplot as plt\n",
        "sample_id = 50\n",
        "plt.imshow(x_train[sample_id], cmap='gray')\n",
        "plt.title(f'Lable: {y_train[sample_id]}')\n",
        "plt.show()"
      ],
      "metadata": {
        "colab": {
          "base_uri": "https://localhost:8080/",
          "height": 281
        },
        "id": "_5jnNtnwp1wc",
        "outputId": "05cc153c-5a83-4afb-8a9b-3cc8a4d6dd36"
      },
      "execution_count": 5,
      "outputs": [
        {
          "output_type": "display_data",
          "data": {
            "text/plain": [
              "<Figure size 432x288 with 1 Axes>"
            ],
            "image/png": "[encoded data removed]"
          },
          "metadata": {
            "needs_background": "light"
          }
        }
      ]
    },
    {
      "cell_type": "markdown",
      "source": [
        "## Pre-processing"
      ],
      "metadata": {
        "id": "nLAKMjn8rSsU"
      }
    },
    {
      "cell_type": "markdown",
      "source": [
        "### Reshape each sample of the dataset to a 1D array **[10 Points]**\n",
        "The shape of each sample in the dataset is (28, 28). To feed this data to a fully connected classifier we need to have a one-dimensional array for each sample."
      ],
      "metadata": {
        "id": "jLISi53ptIC6"
      }
    },
    {
      "cell_type": "code",
      "source": [
        "# TODO: Convert samples in the training and test sets to 1D array\n",
        "\n",
        "#Reshaping Data (28*28 into a 1D array of 784 elements)\n",
        "x_train = x_train.reshape(60000, 784) \n",
        "x_test = x_test.reshape(10000, 784)\n",
        "\n",
        "#Converting data points to float so we can normalize it\n",
        "x_train = x_train.astype('float32')   \n",
        "x_test = x_test.astype('float32')\n",
        "\n",
        "#Normalizing the data between 0 and 1\n",
        "x_train /= 255                        \n",
        "x_test /= 255\n",
        "\n",
        "#Converting the labels into one-hot encoded vector because they are categorical data\n",
        "\n",
        "y_train = to_categorical(y_train, 10)\n",
        "y_test = to_categorical(y_test, 10)\n"
      ],
      "metadata": {
        "id": "tWkBcgN9pKS2"
      },
      "execution_count": 39,
      "outputs": []
    },
    {
      "cell_type": "markdown",
      "source": [
        "### Split the training dataset **[10 Points]**\n",
        "A common method for ensuring the generalization of the model is to split the training dataset two chucks, **train** and **validation**."
      ],
      "metadata": {
        "id": "YurwVVbZwF_F"
      }
    },
    {
      "cell_type": "code",
      "source": [
        "# TODO: Split the training set into training and validation\n",
        "\n",
        "#Doing a 90:10 split for Train Validation set\n",
        "x_train, x_val, y_train, y_val = train_test_split(x_train, y_train,test_size=0.10)"
      ],
      "metadata": {
        "id": "xv_38Lio1HJK"
      },
      "execution_count": 40,
      "outputs": []
    },
    {
      "cell_type": "markdown",
      "source": [
        "## Design your model **[20 Points]**\n",
        "Design a neural network model for the MNIST classification task."
      ],
      "metadata": {
        "id": "plV_NN9Osp4s"
      }
    },
    {
      "cell_type": "code",
      "source": [
        "# TODO: Design the architecture of the model\n",
        "\n",
        "# Adding 2 hidden layers of 512 perceptrons each having activation as ReLU and the output layer having activation as softmax and 10 perceptrons signifying 10 output possibilities.\n",
        "def build_model():\n",
        "    model = keras.Sequential([\n",
        "                        Dense(512, activation = tf.nn.relu, input_shape = [len(x_train[0])]),\n",
        "                        Dense(512, activation = tf.nn.relu),\n",
        "                        Dense(10, activation = tf.nn.softmax)\n",
        "    ])\n",
        "\n",
        "    #categorical Crossentropy is good for comparing 2 probability distributions\n",
        "    model.compile(optimizer=tf.optimizers.Adam(),\n",
        "                  loss='categorical_crossentropy',\n",
        "                  metrics=['accuracy'])\n",
        "    return model"
      ],
      "metadata": {
        "id": "QvS5EVg9pKQV"
      },
      "execution_count": 41,
      "outputs": []
    },
    {
      "cell_type": "markdown",
      "source": [
        "## Train your model **[20 Points]**\n",
        "Use the training set to train the model and use the validation set to monitor the traning process. Make sure to use an appropriate loss function considering your task (classification) and model architecure."
      ],
      "metadata": {
        "id": "tOIqo-qywAdE"
      }
    },
    {
      "cell_type": "code",
      "source": [
        "# TODO: Fit the model to the traning set\n",
        "\n",
        "model = build_model()\n",
        "\n",
        "early_stop = keras.callbacks.EarlyStopping(monitor='val_loss', patience=5)\n",
        "history = model.fit(x_train, y_train, epochs=100, verbose=1, validation_data = (x_val, y_val), batch_size = 128, callbacks=[early_stop])\n",
        "\n",
        "hist = pd.DataFrame(history.history)"
      ],
      "metadata": {
        "id": "_L9SH-JmpKNd",
        "colab": {
          "base_uri": "https://localhost:8080/"
        },
        "outputId": "ec169eda-3b95-4c9e-93c0-ec56d5ca5b58"
      },
      "execution_count": 42,
      "outputs": [
        {
          "output_type": "stream",
          "name": "stdout",
          "text": [
            "Epoch 1/100\n",
            "422/422 [==============================] - 6s 13ms/step - loss: 0.2283 - accuracy: 0.9331 - val_loss: 0.1224 - val_accuracy: 0.9612\n",
            "Epoch 2/100\n",
            "422/422 [==============================] - 5s 11ms/step - loss: 0.0836 - accuracy: 0.9740 - val_loss: 0.0944 - val_accuracy: 0.9690\n",
            "Epoch 3/100\n",
            "422/422 [==============================] - 5s 13ms/step - loss: 0.0513 - accuracy: 0.9837 - val_loss: 0.0889 - val_accuracy: 0.9720\n",
            "Epoch 4/100\n",
            "422/422 [==============================] - 5s 11ms/step - loss: 0.0393 - accuracy: 0.9874 - val_loss: 0.0918 - val_accuracy: 0.9745\n",
            "Epoch 5/100\n",
            "422/422 [==============================] - 5s 12ms/step - loss: 0.0290 - accuracy: 0.9908 - val_loss: 0.0753 - val_accuracy: 0.9783\n",
            "Epoch 6/100\n",
            "422/422 [==============================] - 5s 12ms/step - loss: 0.0228 - accuracy: 0.9923 - val_loss: 0.0795 - val_accuracy: 0.9795\n",
            "Epoch 7/100\n",
            "422/422 [==============================] - 5s 11ms/step - loss: 0.0173 - accuracy: 0.9940 - val_loss: 0.0945 - val_accuracy: 0.9748\n",
            "Epoch 8/100\n",
            "422/422 [==============================] - 5s 13ms/step - loss: 0.0147 - accuracy: 0.9948 - val_loss: 0.1123 - val_accuracy: 0.9732\n",
            "Epoch 9/100\n",
            "422/422 [==============================] - 5s 11ms/step - loss: 0.0170 - accuracy: 0.9940 - val_loss: 0.1059 - val_accuracy: 0.9758\n",
            "Epoch 10/100\n",
            "422/422 [==============================] - 5s 12ms/step - loss: 0.0125 - accuracy: 0.9957 - val_loss: 0.1153 - val_accuracy: 0.9767\n"
          ]
        }
      ]
    },
    {
      "cell_type": "markdown",
      "source": [
        "## Plot the loss **[10 Points]**\n",
        "Plot the trend of training loss and validation loss with respect to epochs. You should use visualization libraries (e.g. `matplotlib`, `seaborn`) to show these plots."
      ],
      "metadata": {
        "id": "UffBazkf3aY0"
      }
    },
    {
      "cell_type": "code",
      "source": [
        "# TODO: Plot training history of the model\n",
        "\n",
        "def plot_history():\n",
        "    plt.figure()\n",
        "    plt.xlabel('Epoch')\n",
        "    plt.ylabel('Loss')\n",
        "    plt.plot(hist['loss'], label='Train Loss')\n",
        "    plt.plot(hist['val_loss'], label='Val Loss')\n",
        "    plt.legend()\n",
        "    plt.ylim([0, 1])\n",
        "\n",
        "plot_history()\n"
      ],
      "metadata": {
        "id": "DWQ7xahk4frD",
        "colab": {
          "base_uri": "https://localhost:8080/",
          "height": 283
        },
        "outputId": "4120f883-4f86-47ca-8aa6-060dc767b464"
      },
      "execution_count": 44,
      "outputs": [
        {
          "output_type": "display_data",
          "data": {
            "text/plain": [
              "<Figure size 432x288 with 1 Axes>"
            ],
            "image/png": "[encoded data removed]"
          },
          "metadata": {
            "needs_background": "light"
          }
        }
      ]
    },
    {
      "cell_type": "markdown",
      "source": [
        "## Question: Analyzing train/validation loss plot **[10 Points]**\n",
        "In a training scenario, assume that the curves of training loss and validation loss are diverging. What could be the problem?"
      ],
      "metadata": {
        "id": "Ez865bUq73wm"
      }
    },
    {
      "cell_type": "markdown",
      "source": [
        "If the Training Loss and Validation loss curves are diverging then it means that the model is overfitting. This can happen if the model is trined for too many epochs which led to perform excellent on ther training data but perform poorly on the validation data. Some techniques to solve this could be to reduce the parameters of introduce early stopping.  "
      ],
      "metadata": {
        "id": "1201OAf0-aNT"
      }
    },
    {
      "cell_type": "markdown",
      "source": [
        "## Test the model on the test set **[10 Points]**\n",
        "Compute accuracy, F1 macro, precision, and recall scores of the model. You can use functions available in machine learning libraries such as `scikit-learn` to compute these metrics."
      ],
      "metadata": {
        "id": "GCC6Xlj-2d2d"
      }
    },
    {
      "cell_type": "code",
      "source": [
        "# TODO: Model evaluation and metrics\n",
        "\n",
        "#Using the model to predict our test data\n",
        "predictions = model.predict(x_test)\n",
        "loss, accuracy = model.evaluate(x_test, y_test)\n",
        "\n",
        "print('Accuracy: {}'.format(accuracy))\n",
        "\n",
        "precision, recall, fscore, support = score(np.argmax(y_test, axis=1), np.argmax(predictions, axis=1))\n",
        "\n",
        "for i in range(9):\n",
        "  print('Class {}'.format(i))\n",
        "  print('precision: {}'.format(precision[i]))\n",
        "  print('recall: {}'.format(recall[i]))\n",
        "  print('fscore: {}'.format(fscore[i]))\n"
      ],
      "metadata": {
        "id": "OVb8jqgnpKK2",
        "colab": {
          "base_uri": "https://localhost:8080/"
        },
        "outputId": "cddfe4df-8a4f-40d4-9a12-84a5a785c611"
      },
      "execution_count": 45,
      "outputs": [
        {
          "output_type": "stream",
          "name": "stdout",
          "text": [
            "313/313 [==============================] - 1s 3ms/step\n",
            "313/313 [==============================] - 1s 4ms/step - loss: 0.0988 - accuracy: 0.9768\n",
            "Accuracy: 0.9768000245094299\n",
            "Class 0\n",
            "precision: 0.9681908548707754\n",
            "recall: 0.9938775510204082\n",
            "fscore: 0.9808660624370593\n",
            "Class 1\n",
            "precision: 0.9740484429065744\n",
            "recall: 0.9920704845814978\n",
            "fscore: 0.982976865997381\n",
            "Class 2\n",
            "precision: 0.971953578336557\n",
            "recall: 0.9738372093023255\n",
            "fscore: 0.9728944820909969\n",
            "Class 3\n",
            "precision: 0.9848790322580645\n",
            "recall: 0.9673267326732673\n",
            "fscore: 0.976023976023976\n",
            "Class 4\n",
            "precision: 0.9866117404737385\n",
            "recall: 0.9755600814663951\n",
            "fscore: 0.9810547875064004\n",
            "Class 5\n",
            "precision: 0.9852774631936579\n",
            "recall: 0.9753363228699552\n",
            "fscore: 0.980281690140845\n",
            "Class 6\n",
            "precision: 0.9762150982419855\n",
            "recall: 0.9853862212943633\n",
            "fscore: 0.9807792207792208\n",
            "Class 7\n",
            "precision: 0.9773622047244095\n",
            "recall: 0.9659533073929961\n",
            "fscore: 0.9716242661448141\n",
            "Class 8\n",
            "precision: 0.975991649269311\n",
            "recall: 0.9599589322381931\n",
            "fscore: 0.9679089026915114\n"
          ]
        }
      ]
    },
    {
      "cell_type": "markdown",
      "source": [
        "## Plot test set digits **[10 Points]**\n",
        "Plot a few examples of the digits in the test set with their true and predicted labels."
      ],
      "metadata": {
        "id": "leXJ5_xvAaOR"
      }
    },
    {
      "cell_type": "code",
      "source": [
        "# TODO: Plot test digits and their labels\n",
        "\n",
        "for i in range(9):\n",
        "    plt.subplot(3,3,i+1)\n",
        "    plt.imshow(x_test[i].reshape(28,28), cmap='gray', interpolation='none')\n",
        "    plt.title(\"Actual {} Predicted {}\".format(np.argmax(y_test[i]),np.argmax(predictions[i])))\n",
        "    \n",
        "plt.tight_layout()"
      ],
      "metadata": {
        "id": "KtmceMv1A0yj",
        "colab": {
          "base_uri": "https://localhost:8080/",
          "height": 297
        },
        "outputId": "2f67f2d8-d864-411c-d93c-465d02d5d302"
      },
      "execution_count": 46,
      "outputs": [
        {
          "output_type": "display_data",
          "data": {
            "text/plain": [
              "<Figure size 432x288 with 9 Axes>"
            ],
            "image/png": "[encoded data removed]"
          },
          "metadata": {
            "needs_background": "light"
          }
        }
      ]
    },
    {
      "cell_type": "markdown",
      "source": [
        "## Hype-parameter tuning **[Extra 20 points]**\n",
        "Using grid search, try to find the best set of hyper-parameters for the model architecture and training the model.\n",
        "\n",
        "Hyper-parameters include but are not limited to:\n",
        "\n",
        "*   Number of layers\n",
        "*   Number of perceptrons in each layer\n",
        "*   Learning rate\n",
        "*   Dropout rate"
      ],
      "metadata": {
        "id": "NxpHyVSn6kJo"
      }
    },
    {
      "cell_type": "code",
      "source": [
        "# TODO: Hyperparameter tuning using grid search\n",
        "\n",
        "from tensorflow.keras.layers import Dropout\n",
        "from sklearn.model_selection import GridSearchCV\n",
        "from keras.wrappers.scikit_learn import KerasClassifier\n",
        "\n",
        "#Have to fetch and reshape manupulate data again because the above data is already split.\n",
        "\n",
        "(x_train, y_train), (x_test, y_test) = mnist.load_data(path=\"mnist.npz\")\n",
        "\n",
        "x_train = x_train.reshape(60000, 784) \n",
        "x_test = x_test.reshape(10000, 784)\n",
        "\n",
        "x_train = x_train.astype('float32')   \n",
        "x_test = x_test.astype('float32')\n",
        "\n",
        "x_train /= 255                        \n",
        "x_test /= 255\n",
        "\n",
        "y_train = to_categorical(y_train, 10)\n",
        "y_test = to_categorical(y_test, 10)\n",
        "\n",
        "def model_building(perceptrons, learning_rate, dropout_rate):\n",
        "  model = keras.Sequential()\n",
        "  model.add(Dense(perceptrons, activation='relu', input_shape=[len(x_train[0])]))\n",
        "  model.add(Dropout(dropout_rate))\n",
        "  model.add(Dense(10, activation='softmax'))\n",
        "  model.compile(optimizer=tf.keras.optimizers.Adam(learning_rate=learning_rate), loss='categorical_crossentropy', metrics=['accuracy'])\n",
        "\n",
        "  return model\n",
        "\n",
        "param_grid = {'perceptrons': [32, 64, 128],'learning_rate': [0.01, 0.001], 'dropout_rate': [0.0, 0.1, 0.2]}\n",
        "\n",
        "g_model = KerasClassifier(build_fn=model_building, verbose=1)\n",
        "grid_cv = GridSearchCV(estimator=g_model, param_grid=param_grid, cv=2)\n",
        "results = grid_cv.fit(x_train, y_train)\n",
        "print(\"The best Parameters are: {}\".format(grid_cv.best_params_))"
      ],
      "metadata": {
        "colab": {
          "base_uri": "https://localhost:8080/"
        },
        "id": "2GbtfSfnIwtV",
        "outputId": "159c2e22-e944-48d0-a7d6-0226b4f37b3a"
      },
      "execution_count": 47,
      "outputs": [
        {
          "output_type": "stream",
          "name": "stderr",
          "text": [
            "<ipython-input-47-72e41eb8eb48>:34: DeprecationWarning: KerasClassifier is deprecated, use Sci-Keras (https://github.com/adriangb/scikeras) instead. See https://www.adriangb.com/scikeras/stable/migration.html for help migrating.\n",
            "  g_model = KerasClassifier(build_fn=model_building, verbose=1)\n"
          ]
        },
        {
          "output_type": "stream",
          "name": "stdout",
          "text": [
            "938/938 [==============================] - 3s 2ms/step - loss: 0.3244 - accuracy: 0.9034\n",
            "938/938 [==============================] - 1s 1ms/step - loss: 0.2304 - accuracy: 0.9325\n",
            "938/938 [==============================] - 2s 2ms/step - loss: 0.3370 - accuracy: 0.9003\n",
            "938/938 [==============================] - 1s 1ms/step - loss: 0.2710 - accuracy: 0.9222\n",
            "938/938 [==============================] - 2s 2ms/step - loss: 0.2985 - accuracy: 0.9095\n",
            "938/938 [==============================] - 1s 1ms/step - loss: 0.2128 - accuracy: 0.9359\n",
            "938/938 [==============================] - 2s 2ms/step - loss: 0.2930 - accuracy: 0.9115\n",
            "938/938 [==============================] - 1s 1ms/step - loss: 0.1986 - accuracy: 0.9394\n",
            "938/938 [==============================] - 6s 6ms/step - loss: 0.2851 - accuracy: 0.9143\n",
            "938/938 [==============================] - 1s 1ms/step - loss: 0.1862 - accuracy: 0.9460\n",
            "938/938 [==============================] - 2s 2ms/step - loss: 0.2906 - accuracy: 0.9099\n",
            "938/938 [==============================] - 2s 2ms/step - loss: 0.2051 - accuracy: 0.9391\n",
            "938/938 [==============================] - 2s 2ms/step - loss: 0.4683 - accuracy: 0.8677\n",
            "938/938 [==============================] - 1s 1ms/step - loss: 0.2816 - accuracy: 0.9192\n",
            "938/938 [==============================] - 2s 2ms/step - loss: 0.4602 - accuracy: 0.8743\n",
            "938/938 [==============================] - 1s 1ms/step - loss: 0.2829 - accuracy: 0.9201\n",
            "938/938 [==============================] - 2s 2ms/step - loss: 0.4027 - accuracy: 0.8865\n",
            "938/938 [==============================] - 1s 1ms/step - loss: 0.2450 - accuracy: 0.9305\n",
            "938/938 [==============================] - 2s 2ms/step - loss: 0.3968 - accuracy: 0.8888\n",
            "938/938 [==============================] - 1s 1ms/step - loss: 0.2401 - accuracy: 0.9298\n",
            "938/938 [==============================] - 2s 2ms/step - loss: 0.3495 - accuracy: 0.9010\n",
            "938/938 [==============================] - 1s 1ms/step - loss: 0.2087 - accuracy: 0.9398\n",
            "938/938 [==============================] - 3s 3ms/step - loss: 0.3400 - accuracy: 0.9052\n",
            "938/938 [==============================] - 1s 1ms/step - loss: 0.2179 - accuracy: 0.9359\n",
            "938/938 [==============================] - 2s 2ms/step - loss: 0.4263 - accuracy: 0.8668\n",
            "938/938 [==============================] - 1s 1ms/step - loss: 0.2449 - accuracy: 0.9293\n",
            "938/938 [==============================] - 2s 1ms/step - loss: 0.4073 - accuracy: 0.8745\n",
            "938/938 [==============================] - 1s 1ms/step - loss: 0.2808 - accuracy: 0.9163\n",
            "938/938 [==============================] - 2s 2ms/step - loss: 0.3348 - accuracy: 0.8979\n",
            "938/938 [==============================] - 1s 1ms/step - loss: 0.2228 - accuracy: 0.9348\n",
            "938/938 [==============================] - 3s 2ms/step - loss: 0.3382 - accuracy: 0.8965\n",
            "938/938 [==============================] - 1s 1ms/step - loss: 0.2078 - accuracy: 0.9371\n",
            "938/938 [==============================] - 3s 3ms/step - loss: 0.3132 - accuracy: 0.9033\n",
            "938/938 [==============================] - 2s 2ms/step - loss: 0.2461 - accuracy: 0.9272\n",
            "938/938 [==============================] - 3s 2ms/step - loss: 0.3219 - accuracy: 0.9027\n",
            "938/938 [==============================] - 1s 1ms/step - loss: 0.1980 - accuracy: 0.9427\n",
            "938/938 [==============================] - 2s 2ms/step - loss: 0.5251 - accuracy: 0.8496\n",
            "938/938 [==============================] - 1s 1ms/step - loss: 0.2848 - accuracy: 0.9168\n",
            "938/938 [==============================] - 2s 2ms/step - loss: 0.5265 - accuracy: 0.8503\n",
            "938/938 [==============================] - 1s 1ms/step - loss: 0.2887 - accuracy: 0.9183\n",
            "938/938 [==============================] - 2s 2ms/step - loss: 0.4300 - accuracy: 0.8771\n",
            "938/938 [==============================] - 1s 1ms/step - loss: 0.2461 - accuracy: 0.9284\n",
            "938/938 [==============================] - 2s 2ms/step - loss: 0.4257 - accuracy: 0.8795\n",
            "938/938 [==============================] - 2s 2ms/step - loss: 0.2423 - accuracy: 0.9322\n",
            "938/938 [==============================] - 2s 2ms/step - loss: 0.3779 - accuracy: 0.8920\n",
            "938/938 [==============================] - 1s 1ms/step - loss: 0.2081 - accuracy: 0.9377\n",
            "938/938 [==============================] - 2s 2ms/step - loss: 0.3642 - accuracy: 0.8947\n",
            "938/938 [==============================] - 1s 1ms/step - loss: 0.2105 - accuracy: 0.9403\n",
            "938/938 [==============================] - 2s 2ms/step - loss: 0.5727 - accuracy: 0.8146\n",
            "938/938 [==============================] - 1s 1ms/step - loss: 0.3197 - accuracy: 0.9084\n",
            "938/938 [==============================] - 2s 2ms/step - loss: 0.5138 - accuracy: 0.8350\n",
            "938/938 [==============================] - 1s 1ms/step - loss: 0.2940 - accuracy: 0.9119\n",
            "938/938 [==============================] - 2s 2ms/step - loss: 0.3976 - accuracy: 0.8769\n",
            "938/938 [==============================] - 1s 1ms/step - loss: 0.2197 - accuracy: 0.9346\n",
            "938/938 [==============================] - 2s 2ms/step - loss: 0.3824 - accuracy: 0.8842\n",
            "938/938 [==============================] - 1s 1ms/step - loss: 0.2332 - accuracy: 0.9306\n",
            "938/938 [==============================] - 2s 2ms/step - loss: 0.3596 - accuracy: 0.8920\n",
            "938/938 [==============================] - 1s 1ms/step - loss: 0.2115 - accuracy: 0.9375\n",
            "938/938 [==============================] - 2s 2ms/step - loss: 0.3631 - accuracy: 0.8890\n",
            "938/938 [==============================] - 1s 1ms/step - loss: 0.2494 - accuracy: 0.9298\n",
            "938/938 [==============================] - 2s 2ms/step - loss: 0.6183 - accuracy: 0.8180\n",
            "938/938 [==============================] - 1s 1ms/step - loss: 0.3075 - accuracy: 0.9126\n",
            "938/938 [==============================] - 2s 2ms/step - loss: 0.5864 - accuracy: 0.8311\n",
            "938/938 [==============================] - 1s 1ms/step - loss: 0.2958 - accuracy: 0.9146\n",
            "938/938 [==============================] - 2s 2ms/step - loss: 0.4808 - accuracy: 0.8603\n",
            "938/938 [==============================] - 1s 1ms/step - loss: 0.2666 - accuracy: 0.9261\n",
            "938/938 [==============================] - 2s 2ms/step - loss: 0.4801 - accuracy: 0.8626\n",
            "938/938 [==============================] - 1s 1ms/step - loss: 0.2586 - accuracy: 0.9257\n",
            "938/938 [==============================] - 4s 3ms/step - loss: 0.3869 - accuracy: 0.8881\n",
            "938/938 [==============================] - 1s 1ms/step - loss: 0.2049 - accuracy: 0.9406\n",
            "938/938 [==============================] - 2s 2ms/step - loss: 0.3864 - accuracy: 0.8892\n",
            "938/938 [==============================] - 1s 1ms/step - loss: 0.2084 - accuracy: 0.9403\n",
            "1875/1875 [==============================] - 5s 2ms/step - loss: 0.2391 - accuracy: 0.9302\n",
            "The best Parameters are: {'dropout_rate': 0.0, 'learning_rate': 0.01, 'perceptrons': 128}\n"
          ]
        }
      ]
    }
  ]
}