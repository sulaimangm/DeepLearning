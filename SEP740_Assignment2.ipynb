{
  "nbformat": 4,
  "nbformat_minor": 0,
  "metadata": {
    "colab": {
      "provenance": []
    },
    "kernelspec": {
      "name": "python3",
      "display_name": "Python 3"
    },
    "language_info": {
      "name": "python"
    }
  },
  "cells": [
    {
      "cell_type": "markdown",
      "source": [
        "# SEP 740 - Assignment 2"
      ],
      "metadata": {
        "id": "hbwSRbjqAGxR"
      }
    },
    {
      "cell_type": "markdown",
      "source": [
        "In the previous assignment, you applied your knowledge of deep learning and implemented a fully connected neural network to classify images from the MNIST dataset. Now, in this assignment, we aim to take things a step further by exploring Convolutional Neural Networks (CNNs), a popular and powerful architecture for image classification tasks.\n",
        "\n",
        "CNNs are particularly well-suited for image classification problems as they are designed to process data with a grid-like topology. They use convolutional layers to extract meaningful features from images and pooling layers to down-sample the feature maps to reduce their dimensionality. This allows CNNs to learn hierarchical representations of the input data and make robust predictions.\n",
        "\n",
        "In this assignment, you will build and train a CNN to classify images from the MNIST dataset. By the end of the assignment, you will have a better understanding of the strengths and weaknesses of both approaches and be able to choose the right architecture for similar problems in the future.\n",
        "\n",
        "Note that the structure of this notebook will be similar to the previous one, but the implementation and code will differ as we delve into the specifics of CNNs."
      ],
      "metadata": {
        "id": "sCNOkPL7lQJk"
      }
    },
    {
      "cell_type": "markdown",
      "source": [
        "# MNIST Classification Task"
      ],
      "metadata": {
        "id": "Sxxs2U6Oojsr"
      }
    },
    {
      "cell_type": "markdown",
      "source": [
        "### Import Libraries and Load the dataset"
      ],
      "metadata": {
        "id": "U2vrltFHopJJ"
      }
    },
    {
      "cell_type": "code",
      "source": [
        "import numpy as np         \n",
        "import pandas as pd\n",
        "import matplotlib.pyplot as plt      \n",
        "import random\n",
        "import tensorflow as tf\n",
        "from tensorflow import keras      \n",
        "from tensorflow.keras.models import Model               \n",
        "\n",
        "from keras.datasets import mnist     \n",
        "from keras.models import Sequential  \n",
        "\n",
        "from keras.layers import Dense, Dropout, Flatten, Conv2D, MaxPool2D, BatchNormalization, Activation\n",
        "from keras.utils import np_utils \n",
        "from keras.optimizers import RMSprop\n",
        "\n",
        "from sklearn.model_selection import GridSearchCV, train_test_split\n",
        "from sklearn.metrics import precision_recall_fscore_support as score\n",
        "from tensorflow.python.keras.utils.np_utils import to_categorical\n",
        "from keras.preprocessing.image import ImageDataGenerator\n",
        "\n",
        "from tensorflow.keras.datasets import mnist"
      ],
      "metadata": {
        "id": "xMb1LdYfo3ge"
      },
      "execution_count": 26,
      "outputs": []
    },
    {
      "cell_type": "code",
      "source": [
        "(x_train, y_train), (x_test, y_test) = mnist.load_data(path=\"mnist.npz\")\n",
        "print('Samples in the training set:', x_train.shape[0])\n",
        "print('Samples in the test set:', y_test.shape[0])"
      ],
      "metadata": {
        "colab": {
          "base_uri": "https://localhost:8080/"
        },
        "id": "K8Z_A0VmpE-L",
        "outputId": "9b4fb6cf-0baf-473c-fb72-0fd0ebe42a0b"
      },
      "execution_count": 3,
      "outputs": [
        {
          "output_type": "stream",
          "name": "stdout",
          "text": [
            "Downloading data from https://storage.googleapis.com/tensorflow/tf-keras-datasets/mnist.npz\n",
            "11490434/11490434 [==============================] - 0s 0us/step\n",
            "Samples in the training set: 60000\n",
            "Samples in the test set: 10000\n"
          ]
        }
      ]
    },
    {
      "cell_type": "markdown",
      "source": [
        "### An example of the MNIST training set"
      ],
      "metadata": {
        "id": "SF0sc0aFp4Oq"
      }
    },
    {
      "cell_type": "code",
      "source": [
        "from matplotlib import pyplot as plt\n",
        "sample_id = 50\n",
        "plt.imshow(x_train[sample_id], cmap='gray')\n",
        "plt.title(f'Lable: {y_train[sample_id]}')\n",
        "plt.show()"
      ],
      "metadata": {
        "colab": {
          "base_uri": "https://localhost:8080/",
          "height": 281
        },
        "id": "_5jnNtnwp1wc",
        "outputId": "6203b10d-a52d-407a-99ac-7e9613a1c65a"
      },
      "execution_count": 4,
      "outputs": [
        {
          "output_type": "display_data",
          "data": {
            "text/plain": [
              "<Figure size 432x288 with 1 Axes>"
            ],
            "image/png": "[encoded data removed]"
          },
          "metadata": {
            "needs_background": "light"
          }
        }
      ]
    },
    {
      "cell_type": "markdown",
      "source": [
        "## Pre-processing"
      ],
      "metadata": {
        "id": "nLAKMjn8rSsU"
      }
    },
    {
      "cell_type": "markdown",
      "source": [
        "### Normalize **[15 Points]**\n",
        "Normalizing the pixel values of the images to the range [0, 1] or [-1, 1] helps to standardize the data and improve the performance of the model."
      ],
      "metadata": {
        "id": "jLISi53ptIC6"
      }
    },
    {
      "cell_type": "code",
      "source": [
        "# TODO: Normalize the data\n",
        "\n",
        "#Reshaping Data \n",
        "x_train = x_train.reshape(x_train.shape[0], 28, 28, 1) \n",
        "x_test = x_test.reshape(x_test.shape[0], 28, 28, 1)\n",
        "\n",
        "#Converting data points to float so we can normalize it\n",
        "x_train = x_train.astype('float32')   \n",
        "x_test = x_test.astype('float32')\n",
        "\n",
        "#Normalizing the data between 0 and 1\n",
        "x_train /= 255                        \n",
        "x_test /= 255\n",
        "\n",
        "#Converting the labels into one-hot encoded vector because they are categorical data\n",
        "\n",
        "y_train = to_categorical(y_train, 10)\n",
        "y_test = to_categorical(y_test, 10)"
      ],
      "metadata": {
        "id": "tWkBcgN9pKS2"
      },
      "execution_count": 5,
      "outputs": []
    },
    {
      "cell_type": "markdown",
      "source": [
        "### Split the training dataset **[15 Points]**\n",
        "A common method for ensuring the generalization of the model is to split the training dataset two chucks, **train**, **validation**, and **test**."
      ],
      "metadata": {
        "id": "YurwVVbZwF_F"
      }
    },
    {
      "cell_type": "code",
      "source": [
        "# TODO: Split the training set\n",
        "\n",
        "#Doing a 90:10 split for Train Validation set\n",
        "x_train, x_val, y_train, y_val = train_test_split(x_train, y_train,test_size=0.10)"
      ],
      "metadata": {
        "id": "xv_38Lio1HJK"
      },
      "execution_count": 6,
      "outputs": []
    },
    {
      "cell_type": "markdown",
      "source": [
        "### Data Augmentation **[Extra 10 Points]**\n",
        "To increase the size of the training dataset and reduce overfitting, techniques such as random rotations, translations, and flips can be applied to the training images."
      ],
      "metadata": {
        "id": "xdPNv-GKfNaH"
      }
    },
    {
      "cell_type": "code",
      "source": [
        "# TODO: Perform data augmentation\n",
        "\n",
        "# For our data augmentation we will Rotation, Shift and Zoom.\n",
        "datagen = ImageDataGenerator(rotation_range=20, # 20 degree rotation range\n",
        "                             width_shift_range=0.1, # 1% shift range of the image \n",
        "                             height_shift_range=0.1, # 1% shift range of the image\n",
        "                             zoom_range=0.05)\n",
        "\n",
        "datagen.fit(x_train)"
      ],
      "metadata": {
        "id": "-lqGlCKufheR"
      },
      "execution_count": 7,
      "outputs": []
    },
    {
      "cell_type": "markdown",
      "source": [
        "## Design your model **[20 Points]**\n",
        "Design a CNN model for the MNIST classification task."
      ],
      "metadata": {
        "id": "plV_NN9Osp4s"
      }
    },
    {
      "cell_type": "code",
      "source": [
        "# TODO: Design the architecture of the model\n",
        "\n",
        "model = keras.Sequential([Conv2D(filters = 32, kernel_size = (5,5), activation ='relu', input_shape = (28 ,28 ,1)),\n",
        "                          Conv2D(filters = 32, kernel_size = (5,5), activation ='relu'),\n",
        "                          BatchNormalization(), # To normalize the previous activation\n",
        "                          Activation('relu'),\n",
        "                          MaxPool2D(pool_size=(2,2)),\n",
        "                          Dropout(0.05),\n",
        "\n",
        "                          Conv2D(filters = 64, kernel_size = (5,5), activation ='relu'),\n",
        "                          Conv2D(filters = 64, kernel_size = (5,5), activation ='relu'),\n",
        "                          BatchNormalization(),\n",
        "                          Activation('relu'),\n",
        "                          MaxPool2D(pool_size=(2,2)),\n",
        "                          Dropout(0.05),\n",
        "\n",
        "                          Flatten(), # To convert 2D Activations to 1D Activations. Required before using Dense Layers\n",
        "\n",
        "                          #We will make 3 Dense Layers before the Output Layer\n",
        "                          Dense(256, activation='relu'),\n",
        "                          BatchNormalization(),\n",
        "                          Activation('relu'),\n",
        "\n",
        "                          Dense(128, activation='relu'),\n",
        "                          BatchNormalization(),\n",
        "                          Activation('relu'),\n",
        "                          \n",
        "                          Dense(84, activation='relu'),\n",
        "                          BatchNormalization(),\n",
        "                          Activation('relu'),\n",
        "                          Dropout(0.05),\n",
        "                          \n",
        "                          Dense(10, activation='softmax')\n",
        "    \n",
        "])\n",
        "\n",
        "model.summary()\n",
        "\n",
        "model.compile(optimizer =RMSprop(learning_rate=1e-4) , loss = \"categorical_crossentropy\", metrics=[\"acc\"])"
      ],
      "metadata": {
        "id": "QvS5EVg9pKQV",
        "colab": {
          "base_uri": "https://localhost:8080/"
        },
        "outputId": "e477bb31-d02d-4d4a-b568-70ca8aca83f8"
      },
      "execution_count": 34,
      "outputs": [
        {
          "output_type": "stream",
          "name": "stdout",
          "text": [
            "Model: \"sequential_2\"\n",
            "_________________________________________________________________\n",
            " Layer (type)                Output Shape              Param #   \n",
            "=================================================================\n",
            " conv2d_8 (Conv2D)           (None, 24, 24, 32)        832       \n",
            "                                                                 \n",
            " conv2d_9 (Conv2D)           (None, 20, 20, 32)        25632     \n",
            "                                                                 \n",
            " batch_normalization_10 (Bat  (None, 20, 20, 32)       128       \n",
            " chNormalization)                                                \n",
            "                                                                 \n",
            " activation_10 (Activation)  (None, 20, 20, 32)        0         \n",
            "                                                                 \n",
            " max_pooling2d_4 (MaxPooling  (None, 10, 10, 32)       0         \n",
            " 2D)                                                             \n",
            "                                                                 \n",
            " dropout_6 (Dropout)         (None, 10, 10, 32)        0         \n",
            "                                                                 \n",
            " conv2d_10 (Conv2D)          (None, 6, 6, 64)          51264     \n",
            "                                                                 \n",
            " conv2d_11 (Conv2D)          (None, 2, 2, 64)          102464    \n",
            "                                                                 \n",
            " batch_normalization_11 (Bat  (None, 2, 2, 64)         256       \n",
            " chNormalization)                                                \n",
            "                                                                 \n",
            " activation_11 (Activation)  (None, 2, 2, 64)          0         \n",
            "                                                                 \n",
            " max_pooling2d_5 (MaxPooling  (None, 1, 1, 64)         0         \n",
            " 2D)                                                             \n",
            "                                                                 \n",
            " dropout_7 (Dropout)         (None, 1, 1, 64)          0         \n",
            "                                                                 \n",
            " flatten_2 (Flatten)         (None, 64)                0         \n",
            "                                                                 \n",
            " dense_8 (Dense)             (None, 256)               16640     \n",
            "                                                                 \n",
            " batch_normalization_12 (Bat  (None, 256)              1024      \n",
            " chNormalization)                                                \n",
            "                                                                 \n",
            " activation_12 (Activation)  (None, 256)               0         \n",
            "                                                                 \n",
            " dense_9 (Dense)             (None, 128)               32896     \n",
            "                                                                 \n",
            " batch_normalization_13 (Bat  (None, 128)              512       \n",
            " chNormalization)                                                \n",
            "                                                                 \n",
            " activation_13 (Activation)  (None, 128)               0         \n",
            "                                                                 \n",
            " dense_10 (Dense)            (None, 84)                10836     \n",
            "                                                                 \n",
            " batch_normalization_14 (Bat  (None, 84)               336       \n",
            " chNormalization)                                                \n",
            "                                                                 \n",
            " activation_14 (Activation)  (None, 84)                0         \n",
            "                                                                 \n",
            " dropout_8 (Dropout)         (None, 84)                0         \n",
            "                                                                 \n",
            " dense_11 (Dense)            (None, 10)                850       \n",
            "                                                                 \n",
            "=================================================================\n",
            "Total params: 243,670\n",
            "Trainable params: 242,542\n",
            "Non-trainable params: 1,128\n",
            "_________________________________________________________________\n"
          ]
        }
      ]
    },
    {
      "cell_type": "markdown",
      "source": [
        "## Train your model **[20 Points]**\n",
        "Use the training set to train the model and use the validation set to monitor the traning process. Make sure to use an appropriate loss function considering your task (classification) and model architecure."
      ],
      "metadata": {
        "id": "tOIqo-qywAdE"
      }
    },
    {
      "cell_type": "code",
      "source": [
        "# TODO: Fit the model to the traning set\n",
        "\n",
        "early_stop = keras.callbacks.EarlyStopping(monitor='val_loss', min_delta =0, patience=6, verbose=1, mode='min',restore_best_weights=True)\n",
        "\n",
        "history = model.fit_generator(datagen.flow(x_train,y_train, batch_size=86),\n",
        "                              epochs = 15, \n",
        "                              validation_data = (x_val,y_val),\n",
        "                              verbose = 1,\n",
        "                              steps_per_epoch = x_train.shape[0] // 86,\n",
        "                              callbacks = [early_stop])\n"
      ],
      "metadata": {
        "id": "_L9SH-JmpKNd",
        "colab": {
          "base_uri": "https://localhost:8080/"
        },
        "outputId": "cf551288-021b-417b-f6c4-6e762ff4b503"
      },
      "execution_count": 9,
      "outputs": [
        {
          "output_type": "stream",
          "name": "stderr",
          "text": [
            "<ipython-input-9-aea8a9231f95>:5: UserWarning: `Model.fit_generator` is deprecated and will be removed in a future version. Please use `Model.fit`, which supports generators.\n",
            "  history = model.fit_generator(datagen.flow(x_train,y_train, batch_size=86),\n"
          ]
        },
        {
          "output_type": "stream",
          "name": "stdout",
          "text": [
            "Epoch 1/15\n",
            "627/627 [==============================] - 199s 314ms/step - loss: 1.3549 - acc: 0.5748 - val_loss: 0.7456 - val_acc: 0.9052\n",
            "Epoch 2/15\n",
            "627/627 [==============================] - 196s 312ms/step - loss: 0.4219 - acc: 0.8963 - val_loss: 0.1263 - val_acc: 0.9658\n",
            "Epoch 3/15\n",
            "627/627 [==============================] - 200s 319ms/step - loss: 0.2358 - acc: 0.9395 - val_loss: 0.1409 - val_acc: 0.9562\n",
            "Epoch 4/15\n",
            "627/627 [==============================] - 196s 312ms/step - loss: 0.1703 - acc: 0.9541 - val_loss: 0.0586 - val_acc: 0.9815\n",
            "Epoch 5/15\n",
            "627/627 [==============================] - 196s 312ms/step - loss: 0.1369 - acc: 0.9622 - val_loss: 0.0701 - val_acc: 0.9808\n",
            "Epoch 6/15\n",
            "627/627 [==============================] - 198s 316ms/step - loss: 0.1174 - acc: 0.9668 - val_loss: 0.0420 - val_acc: 0.9865\n",
            "Epoch 7/15\n",
            "627/627 [==============================] - 197s 314ms/step - loss: 0.1060 - acc: 0.9705 - val_loss: 0.0441 - val_acc: 0.9875\n",
            "Epoch 8/15\n",
            "627/627 [==============================] - 196s 313ms/step - loss: 0.0937 - acc: 0.9738 - val_loss: 0.0374 - val_acc: 0.9897\n",
            "Epoch 9/15\n",
            "627/627 [==============================] - 195s 311ms/step - loss: 0.0861 - acc: 0.9761 - val_loss: 0.0412 - val_acc: 0.9898\n",
            "Epoch 10/15\n",
            "627/627 [==============================] - 195s 311ms/step - loss: 0.0830 - acc: 0.9770 - val_loss: 0.0463 - val_acc: 0.9870\n",
            "Epoch 11/15\n",
            "627/627 [==============================] - 196s 312ms/step - loss: 0.0776 - acc: 0.9777 - val_loss: 0.0344 - val_acc: 0.9907\n",
            "Epoch 12/15\n",
            "627/627 [==============================] - 199s 318ms/step - loss: 0.0725 - acc: 0.9798 - val_loss: 0.0682 - val_acc: 0.9820\n",
            "Epoch 13/15\n",
            "627/627 [==============================] - 218s 348ms/step - loss: 0.0697 - acc: 0.9810 - val_loss: 0.0462 - val_acc: 0.9892\n",
            "Epoch 14/15\n",
            "627/627 [==============================] - 198s 316ms/step - loss: 0.0653 - acc: 0.9811 - val_loss: 0.0505 - val_acc: 0.9880\n",
            "Epoch 15/15\n",
            "627/627 [==============================] - 197s 314ms/step - loss: 0.0646 - acc: 0.9820 - val_loss: 0.0339 - val_acc: 0.9908\n"
          ]
        }
      ]
    },
    {
      "cell_type": "markdown",
      "source": [
        "## Evaluation"
      ],
      "metadata": {
        "id": "gk99HtTAi3LT"
      }
    },
    {
      "cell_type": "markdown",
      "source": [
        "### Plot the loss **[15 Points]**\n",
        "Plot the trend of training loss and validation loss with respect to epochs. You should use visualization libraries (e.g. `matplotlib`, `seaborn`) to show these plots."
      ],
      "metadata": {
        "id": "UffBazkf3aY0"
      }
    },
    {
      "cell_type": "code",
      "source": [
        "# TODO: Plot training history of the model\n",
        "\n",
        "hist = pd.DataFrame(history.history)\n",
        "\n",
        "def plot_history():\n",
        "    plt.figure()\n",
        "    plt.xlabel('Epoch')\n",
        "    plt.ylabel('Loss')\n",
        "    plt.plot(hist['loss'], label='Train Loss')\n",
        "    plt.plot(hist['val_loss'], label='Val Loss')\n",
        "    plt.legend()\n",
        "    plt.ylim([0, 1])\n",
        "\n",
        "plot_history()"
      ],
      "metadata": {
        "id": "DWQ7xahk4frD",
        "colab": {
          "base_uri": "https://localhost:8080/",
          "height": 283
        },
        "outputId": "ef50522c-a77d-4bbe-ca46-358e632be1d9"
      },
      "execution_count": 10,
      "outputs": [
        {
          "output_type": "display_data",
          "data": {
            "text/plain": [
              "<Figure size 432x288 with 1 Axes>"
            ],
            "image/png": "[encoded data removed]"
          },
          "metadata": {
            "needs_background": "light"
          }
        }
      ]
    },
    {
      "cell_type": "markdown",
      "source": [
        "### Test the model on the test set **[15 Points]**\n",
        "Compute accuracy, F1 macro, precision, and recall scores of the model. You can use functions available in machine learning libraries such as `scikit-learn` to compute these metrics."
      ],
      "metadata": {
        "id": "GCC6Xlj-2d2d"
      }
    },
    {
      "cell_type": "code",
      "source": [
        "# TODO: Model evaluation and metrics\n",
        "\n",
        "#Using the model to predict our test data\n",
        "predictions = model.predict(x_test)\n",
        "loss, accuracy = model.evaluate(x_test, y_test)\n",
        "\n",
        "print('Accuracy: {}'.format(accuracy))\n",
        "\n",
        "precision, recall, fscore, support = score(np.argmax(y_test, axis=1), np.argmax(predictions, axis=1))\n",
        "\n",
        "for i in range(10):\n",
        "  print('Class {}'.format(i))\n",
        "  print('precision: {}'.format(precision[i]))\n",
        "  print('recall: {}'.format(recall[i]))\n",
        "  print('fscore: {}'.format(fscore[i]))"
      ],
      "metadata": {
        "id": "OVb8jqgnpKK2",
        "colab": {
          "base_uri": "https://localhost:8080/"
        },
        "outputId": "1770a2ac-7c0d-4f27-c3c3-bf1d1185e9a7"
      },
      "execution_count": 12,
      "outputs": [
        {
          "output_type": "stream",
          "name": "stdout",
          "text": [
            "313/313 [==============================] - 10s 33ms/step\n",
            "313/313 [==============================] - 9s 27ms/step - loss: 0.0355 - acc: 0.9905\n",
            "Accuracy: 0.9904999732971191\n",
            "Class 0\n",
            "precision: 0.9949031600407747\n",
            "recall: 0.9959183673469387\n",
            "fscore: 0.9954105048444671\n",
            "Class 1\n",
            "precision: 0.9972924187725631\n",
            "recall: 0.973568281938326\n",
            "fscore: 0.9852875613018279\n",
            "Class 2\n",
            "precision: 0.9912875121006777\n",
            "recall: 0.9922480620155039\n",
            "fscore: 0.991767554479419\n",
            "Class 3\n",
            "precision: 0.9970119521912351\n",
            "recall: 0.9910891089108911\n",
            "fscore: 0.9940417080436942\n",
            "Class 4\n",
            "precision: 0.9799196787148594\n",
            "recall: 0.9938900203665988\n",
            "fscore: 0.9868554095045501\n",
            "Class 5\n",
            "precision: 0.9921612541993281\n",
            "recall: 0.9932735426008968\n",
            "fscore: 0.9927170868347338\n",
            "Class 6\n",
            "precision: 0.9947589098532494\n",
            "recall: 0.9906054279749478\n",
            "fscore: 0.9926778242677825\n",
            "Class 7\n",
            "precision: 0.9902912621359223\n",
            "recall: 0.9922178988326849\n",
            "fscore: 0.9912536443148688\n",
            "Class 8\n",
            "precision: 0.9816700610997964\n",
            "recall: 0.9897330595482546\n",
            "fscore: 0.9856850715746421\n",
            "Class 9\n",
            "precision: 0.985279685966634\n",
            "recall: 0.9950445986124876\n",
            "fscore: 0.9901380670611439\n"
          ]
        }
      ]
    },
    {
      "cell_type": "markdown",
      "source": [
        "### Visualize filters and feature maps **[Extra 20 Points]**\n",
        "In this section, you will delve into the inner workings of a Convolutional Neural Network (CNN) model by visualizing its feature maps and kernels at each layer. This will provide a deeper understanding of how the model processes input images and recognize patterns.\n",
        "\n",
        "Tip: To visualize the feature maps, you need to forward-pass an image to the network, extract the activations from the intermediate layers of the network,  and plot them as images. The activations represent the feature maps produced by the filters in the convolutional layers."
      ],
      "metadata": {
        "id": "oq5UIOiVjKZj"
      }
    },
    {
      "cell_type": "code",
      "source": [
        "# TODO: Visualize feature maps\n",
        "\n",
        "# Below will give us an idea on the shape of the feature maps and outputs of each of the convolutionanal layers\n",
        "for i in range(len(model.layers)):\n",
        "    layer = model.layers[i]\n",
        "    if 'conv' not in layer.name:\n",
        "        continue    \n",
        "    print(i , layer.name , layer.output.shape)\n",
        "\n",
        "mod = Model(inputs=model.inputs , outputs=model.layers[0].output)\n",
        "\n",
        "features = mod.predict(x_test[:1,:,:,:])\n",
        "\n",
        "fig = plt.figure(figsize=(20,15))\n",
        "for i in range(1,features.shape[3]+1):\n",
        "\n",
        "    plt.subplot(8,8,i)\n",
        "    plt.imshow(features[0,:,:,i-1] , cmap='gray')\n",
        "    \n",
        "plt.show()"
      ],
      "metadata": {
        "id": "XOJ_YJtGj-oi",
        "colab": {
          "base_uri": "https://localhost:8080/",
          "height": 573
        },
        "outputId": "5377e577-3e6b-4f80-db74-dc6a5a62768b"
      },
      "execution_count": 36,
      "outputs": [
        {
          "output_type": "stream",
          "name": "stderr",
          "text": [
            "WARNING:tensorflow:6 out of the last 1374 calls to <function Model.make_predict_function.<locals>.predict_function at 0x7f3cdcecad30> triggered tf.function retracing. Tracing is expensive and the excessive number of tracings could be due to (1) creating @tf.function repeatedly in a loop, (2) passing tensors with different shapes, (3) passing Python objects instead of tensors. For (1), please define your @tf.function outside of the loop. For (2), @tf.function has reduce_retracing=True option that can avoid unnecessary retracing. For (3), please refer to https://www.tensorflow.org/guide/function#controlling_retracing and https://www.tensorflow.org/api_docs/python/tf/function for  more details.\n"
          ]
        },
        {
          "output_type": "stream",
          "name": "stdout",
          "text": [
            "0 conv2d_8 (None, 24, 24, 32)\n",
            "1 conv2d_9 (None, 20, 20, 32)\n",
            "6 conv2d_10 (None, 6, 6, 64)\n",
            "7 conv2d_11 (None, 2, 2, 64)\n",
            "1/1 [==============================] - 0s 50ms/step\n"
          ]
        },
        {
          "output_type": "display_data",
          "data": {
            "text/plain": [
              "<Figure size 1440x1080 with 32 Axes>"
            ],
            "image/png": "[encoded data removed]"
          },
          "metadata": {
            "needs_background": "light"
          }
        }
      ]
    }
  ]
}