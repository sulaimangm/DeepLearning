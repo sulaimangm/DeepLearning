{
  "cells": [
    {
      "cell_type": "markdown",
      "metadata": {
        "id": "Y_ghh2v8vt4R"
      },
      "source": [
        "# SEP 740 - Assignment 3"
      ]
    },
    {
      "cell_type": "markdown",
      "metadata": {
        "id": "JQ8ILrEZv471"
      },
      "source": [
        "In this assignment, we will explore the use of Recurrent Neural Networks (RNNs) and Long Short-Term Memory (LSTM) cells for processing sequential data. RNNs are designed to process sequential data, such as time-series, audio, or text data, by using feedback connections to incorporate previous context into the current prediction. LSTM cells are a type of RNN that can effectively handle the vanishing gradient problem in traditional RNNs and can remember longer-term dependencies.\n",
        "\n",
        "For this assignment, we will use the IMDB dataset, which contains movie reviews labeled as positive or negative. We will use this dataset to train an RNN and an LSTM model to predict the sentiment of a movie review."
      ]
    },
    {
      "cell_type": "markdown",
      "metadata": {
        "id": "yxMc-9JZwO7w"
      },
      "source": [
        "## Load the dataset\n",
        "The IMDB dataset is included in Keras."
      ]
    },
    {
      "cell_type": "markdown",
      "metadata": {
        "id": "b7rlESa0zfBB"
      },
      "source": [
        "## A sample of the dataset"
      ]
    },
    {
      "attachments": {},
      "cell_type": "markdown",
      "metadata": {},
      "source": [
        "### Import Libraries"
      ]
    },
    {
      "cell_type": "code",
      "execution_count": 129,
      "metadata": {},
      "outputs": [],
      "source": [
        "import numpy as np\n",
        "import pandas as pd\n",
        "import matplotlib.pyplot as plt\n",
        "import keras\n",
        "import tensorflow\n",
        "from keras.utils import pad_sequences\n",
        "from sklearn.model_selection import GridSearchCV, train_test_split\n",
        "from keras import Sequential\n",
        "from keras.layers import Embedding, LSTM, Dense, Dropout, SimpleRNN, Activation\n",
        "from keras.optimizers import RMSprop\n",
        "from sklearn.metrics import precision_recall_fscore_support as score\n",
        "from sklearn import metrics\n",
        "from sklearn.metrics import classification_report,confusion_matrix\n",
        "from keras.preprocessing.text import Tokenizer"
      ]
    },
    {
      "cell_type": "code",
      "execution_count": 130,
      "metadata": {
        "colab": {
          "base_uri": "https://localhost:8080/"
        },
        "id": "2OLV1rsrzinc",
        "outputId": "7cadf0c9-35c8-4951-fba0-b5d9cc6bb5ff"
      },
      "outputs": [
        {
          "name": "stdout",
          "output_type": "stream",
          "text": [
            "<START> this film was just brilliant casting <UNK> <UNK> story direction <UNK> really <UNK> the part they played and you could just imagine being there robert <UNK> is an amazing actor and now the same being director <UNK> father came from the same <UNK> <UNK> as myself so i loved the fact there was a real <UNK> with this film the <UNK> <UNK> throughout the film were great it was just brilliant so much that i <UNK> the film as soon as it was released for <UNK> and would recommend it to everyone to watch and the <UNK> <UNK> was amazing really <UNK> at the end it was so sad and you know what they say if you <UNK> at a film it must have been good and this definitely was also <UNK> to the two little <UNK> that played the <UNK> of <UNK> and paul they were just brilliant children are often left out of the <UNK> <UNK> i think because the stars that play them all <UNK> up are such a big <UNK> for the whole film but these children are amazing and should be <UNK> for what they have done don't you think the whole story was so <UNK> because it was true and was <UNK> life after all that was <UNK> with us all\n"
          ]
        }
      ],
      "source": [
        "# Code adapted from https://stackoverflow.com/questions/42821330/restore-original-text-from-keras-s-imdb-dataset#44891281\n",
        "\n",
        "\n",
        "NUM_WORDS=1000 # only use top 1000 words\n",
        "INDEX_FROM=3   # word index offset\n",
        "\n",
        "(x_train, y_train), (x_test, y_test) = tensorflow.keras.datasets.imdb.load_data(num_words=NUM_WORDS, index_from=INDEX_FROM)\n",
        "\n",
        "word_to_id = tensorflow.keras.datasets.imdb.get_word_index()\n",
        "word_to_id = {k:(v+INDEX_FROM) for k,v in word_to_id.items()}\n",
        "\n",
        "word_to_id[\"<PAD>\"] = 0\n",
        "word_to_id[\"<START>\"] = 1\n",
        "word_to_id[\"<UNK>\"] = 2\n",
        "word_to_id[\"<UNUSED>\"] = 3\n",
        "\n",
        "id_to_word = {value:key for key, value in word_to_id.items()}\n",
        "print(' '.join(id_to_word[id] for id in x_train[0] ))"
      ]
    },
    {
      "cell_type": "markdown",
      "metadata": {
        "id": "YM54xp_5wbCn"
      },
      "source": [
        "## Preprocess the data **[10 Points]**\n",
        "The input to an RNN or LSTM model needs to have a fixed sequence length, but the movie reviews in the IMDB dataset have variable lengths. Therefore, we need to preprocess the data by:\n",
        "\n",
        "*   Truncating or padding each movie review to have the same length.\n",
        "*   One-hot encoding the reviews to represent them as fixed-length vectors."
      ]
    },
    {
      "cell_type": "code",
      "execution_count": 131,
      "metadata": {
        "id": "bK3TCVOEwVbf"
      },
      "outputs": [
        {
          "name": "stdout",
          "output_type": "stream",
          "text": [
            "<PAD> <PAD> <PAD> <PAD> <PAD> <PAD> <PAD> <PAD> <PAD> <PAD> <PAD> <PAD> <PAD> <PAD> <PAD> <PAD> <PAD> <PAD> <PAD> <PAD> <PAD> <PAD> <PAD> <PAD> <PAD> <PAD> <PAD> <PAD> <PAD> <PAD> <PAD> <PAD> <PAD> <PAD> <PAD> <PAD> <PAD> <PAD> <PAD> <PAD> <PAD> <PAD> <PAD> <PAD> <PAD> <PAD> <PAD> <PAD> <PAD> <PAD> <PAD> <PAD> <PAD> <PAD> <PAD> <PAD> <PAD> <PAD> <PAD> <PAD> <PAD> <PAD> <PAD> <PAD> <PAD> <PAD> <PAD> <PAD> <PAD> <PAD> <PAD> <PAD> <PAD> <PAD> <PAD> <PAD> <PAD> <PAD> <PAD> <PAD> <PAD> <PAD> <PAD> <PAD> <PAD> <PAD> <PAD> <PAD> <PAD> <PAD> <PAD> <PAD> <PAD> <PAD> <PAD> <PAD> <PAD> <PAD> <PAD> <PAD> <PAD> <PAD> <PAD> <PAD> <PAD> <PAD> <PAD> <PAD> <PAD> <PAD> <PAD> <PAD> <PAD> <PAD> <PAD> <PAD> <PAD> <PAD> <PAD> <PAD> <PAD> <PAD> <PAD> <PAD> <PAD> <PAD> <PAD> <PAD> <PAD> <PAD> <PAD> <PAD> <PAD> <PAD> <PAD> <PAD> <PAD> <PAD> <PAD> <PAD> <PAD> <PAD> <PAD> <PAD> <PAD> <PAD> <PAD> <PAD> <PAD> <PAD> <PAD> <PAD> <PAD> <PAD> <PAD> <PAD> <PAD> <PAD> <PAD> <PAD> <PAD> <PAD> <PAD> <PAD> <PAD> <PAD> <PAD> <PAD> <PAD> <PAD> <PAD> <PAD> <PAD> <PAD> <PAD> <PAD> <PAD> <PAD> <PAD> <PAD> <PAD> <PAD> <PAD> <PAD> <PAD> <PAD> <PAD> <PAD> <PAD> <PAD> <PAD> <PAD> <PAD> <PAD> <PAD> <PAD> <PAD> <PAD> <PAD> <PAD> <PAD> <PAD> <PAD> <PAD> <PAD> <PAD> <PAD> <PAD> <PAD> <PAD> <PAD> <PAD> <PAD> <PAD> <PAD> <PAD> <PAD> <PAD> <PAD> <PAD> <PAD> <PAD> <PAD> <PAD> <PAD> <PAD> <PAD> <PAD> <PAD> <PAD> <PAD> <PAD> <PAD> <PAD> <PAD> <PAD> <PAD> <PAD> <PAD> <PAD> <PAD> <PAD> <PAD> <PAD> <PAD> <PAD> <PAD> <PAD> <PAD> <PAD> <PAD> <PAD> <PAD> <PAD> <PAD> <PAD> <PAD> <PAD> <PAD> <PAD> <PAD> <PAD> <PAD> <PAD> <PAD> <PAD> <PAD> <PAD> <PAD> <PAD> <PAD> <PAD> <PAD> <PAD> <PAD> <PAD> <PAD> <PAD> <PAD> <PAD> <PAD> <PAD> <PAD> <PAD> <PAD> <PAD> <PAD> <PAD> <PAD> <PAD> <PAD> <PAD> <PAD> <PAD> <PAD> <PAD> <PAD> <PAD> <PAD> <PAD> <PAD> <PAD> <PAD> <PAD> <PAD> <PAD> <PAD> <PAD> <PAD> <PAD> <PAD> <PAD> <PAD> <PAD> <PAD> <PAD> <PAD> <PAD> <PAD> <PAD> <PAD> <PAD> <PAD> <PAD> <PAD> <PAD> <PAD> <PAD> <PAD> <PAD> <PAD> <PAD> <PAD> <PAD> <PAD> <PAD> <PAD> <PAD> <PAD> <PAD> <PAD> <PAD> <PAD> <PAD> <PAD> <PAD> <PAD> <PAD> <PAD> <PAD> <PAD> <PAD> <PAD> <PAD> <PAD> <PAD> <PAD> <PAD> <PAD> <PAD> <PAD> <PAD> <PAD> <PAD> <PAD> <PAD> <PAD> <PAD> <PAD> <PAD> <PAD> <PAD> <PAD> <PAD> <PAD> <PAD> <PAD> <PAD> <PAD> <PAD> <PAD> <PAD> <PAD> <PAD> <PAD> <PAD> <PAD> <PAD> <PAD> <PAD> <PAD> <PAD> <PAD> <PAD> <PAD> <PAD> <PAD> <PAD> <PAD> <PAD> <PAD> <PAD> <PAD> <PAD> <PAD> <PAD> <PAD> <PAD> <PAD> <PAD> <PAD> <PAD> <PAD> <PAD> <PAD> <PAD> <PAD> <PAD> <PAD> <PAD> <PAD> <PAD> <PAD> <PAD> <PAD> <PAD> <PAD> <PAD> <PAD> <PAD> <PAD> <PAD> <PAD> <PAD> <PAD> <PAD> <PAD> <PAD> <PAD> <PAD> <PAD> <PAD> <PAD> <PAD> <PAD> <PAD> <PAD> <PAD> <PAD> <PAD> <PAD> <PAD> <PAD> <PAD> <PAD> <PAD> <PAD> <PAD> <PAD> <PAD> <PAD> <PAD> <PAD> <PAD> <PAD> <PAD> <PAD> <PAD> <PAD> <PAD> <PAD> <PAD> <PAD> <PAD> <PAD> <PAD> <PAD> <PAD> <PAD> <PAD> <PAD> <PAD> <PAD> <PAD> <PAD> <PAD> <PAD> <PAD> <PAD> <PAD> <PAD> <PAD> <PAD> <PAD> <PAD> <PAD> <PAD> <PAD> <PAD> <PAD> <PAD> <PAD> <PAD> <PAD> <PAD> <PAD> <PAD> <PAD> <PAD> <PAD> <PAD> <PAD> <PAD> <PAD> <PAD> <PAD> <PAD> <PAD> <PAD> <PAD> <PAD> <PAD> <PAD> <PAD> <PAD> <PAD> <PAD> <PAD> <PAD> <PAD> <PAD> <PAD> <PAD> <PAD> <PAD> <PAD> <PAD> <PAD> <PAD> <PAD> <PAD> <PAD> <PAD> <PAD> <PAD> <PAD> <PAD> <PAD> <PAD> <PAD> <PAD> <PAD> <PAD> <PAD> <PAD> <PAD> <PAD> <PAD> <PAD> <PAD> <PAD> <PAD> <PAD> <PAD> <PAD> <PAD> <PAD> <PAD> <PAD> <PAD> <PAD> <PAD> <PAD> <PAD> <PAD> <PAD> <PAD> <PAD> <PAD> <PAD> <PAD> <PAD> <PAD> <PAD> <PAD> <PAD> <PAD> <PAD> <PAD> <PAD> <PAD> <PAD> <PAD> <PAD> <PAD> <PAD> <PAD> <PAD> <PAD> <PAD> <PAD> <PAD> <PAD> <PAD> <PAD> <PAD> <PAD> <PAD> <PAD> <PAD> <PAD> <PAD> <PAD> <PAD> <PAD> <PAD> <PAD> <PAD> <PAD> <PAD> <PAD> <PAD> <PAD> <PAD> <PAD> <PAD> <PAD> <PAD> <PAD> <PAD> <PAD> <PAD> <PAD> <PAD> <PAD> <PAD> <PAD> <PAD> <PAD> <PAD> <PAD> <PAD> <PAD> <PAD> <PAD> <PAD> <PAD> <PAD> <PAD> <PAD> <PAD> <PAD> <PAD> <PAD> <PAD> <PAD> <PAD> <PAD> <PAD> <PAD> <PAD> <PAD> <PAD> <PAD> <PAD> <PAD> <PAD> <PAD> <PAD> <PAD> <PAD> <PAD> <PAD> <PAD> <PAD> <PAD> <PAD> <PAD> <PAD> <PAD> <PAD> <PAD> <PAD> <PAD> <PAD> <PAD> <PAD> <PAD> <PAD> <PAD> <PAD> <PAD> <PAD> <PAD> <PAD> <PAD> <PAD> <PAD> <PAD> <PAD> <PAD> <PAD> <PAD> <PAD> <PAD> <PAD> <PAD> <PAD> <PAD> <PAD> <PAD> <PAD> <PAD> <PAD> <PAD> <PAD> <PAD> <PAD> <PAD> <PAD> <PAD> <PAD> <PAD> <PAD> <PAD> <PAD> <PAD> <PAD> <PAD> <PAD> <PAD> <PAD> <PAD> <PAD> <PAD> <PAD> <PAD> <PAD> <PAD> <PAD> <PAD> <PAD> <PAD> <PAD> <PAD> <PAD> <PAD> <PAD> <PAD> <PAD> <PAD> <PAD> <PAD> <PAD> <PAD> <PAD> <PAD> <PAD> <PAD> <PAD> <PAD> <PAD> <PAD> <PAD> <PAD> <PAD> <PAD> <PAD> <PAD> <PAD> <PAD> <PAD> <PAD> <PAD> <PAD> <PAD> <PAD> <PAD> <PAD> <PAD> <PAD> <PAD> <START> this film was just brilliant casting <UNK> <UNK> story direction <UNK> really <UNK> the part they played and you could just imagine being there robert <UNK> is an amazing actor and now the same being director <UNK> father came from the same <UNK> <UNK> as myself so i loved the fact there was a real <UNK> with this film the <UNK> <UNK> throughout the film were great it was just brilliant so much that i <UNK> the film as soon as it was released for <UNK> and would recommend it to everyone to watch and the <UNK> <UNK> was amazing really <UNK> at the end it was so sad and you know what they say if you <UNK> at a film it must have been good and this definitely was also <UNK> to the two little <UNK> that played the <UNK> of <UNK> and paul they were just brilliant children are often left out of the <UNK> <UNK> i think because the stars that play them all <UNK> up are such a big <UNK> for the whole film but these children are amazing and should be <UNK> for what they have done don't you think the whole story was so <UNK> because it was true and was <UNK> life after all that was <UNK> with us all\n"
          ]
        }
      ],
      "source": [
        "# Padding the Data so that the max words in the review is 1000\n",
        "\n",
        "max_words = 1000\n",
        "\n",
        "x_train = pad_sequences(x_train, maxlen=max_words)\n",
        "x_test = pad_sequences(x_test, maxlen=max_words)\n",
        "\n",
        "print(' '.join(id_to_word[id] for id in x_train[0] ))"
      ]
    },
    {
      "cell_type": "markdown",
      "metadata": {
        "id": "y-ZeM2Pq2q78"
      },
      "source": [
        "## Split the training dataset **[10 Points]**\n",
        "A common method for ensuring the generalization of the model is to split the training dataset two chucks, **train**, **validation**, and **test**."
      ]
    },
    {
      "cell_type": "code",
      "execution_count": 132,
      "metadata": {
        "id": "q9VC1Kyi2osu"
      },
      "outputs": [],
      "source": [
        "#Doing a 90:10 split for Train Validation set\n",
        "\n",
        "x_train, x_val, y_train, y_val = train_test_split(x_train, y_train,test_size=0.10)"
      ]
    },
    {
      "cell_type": "markdown",
      "metadata": {
        "id": "W_5gAbJsxFVk"
      },
      "source": [
        "## Design your model **[25 Points]**"
      ]
    },
    {
      "cell_type": "markdown",
      "metadata": {
        "id": "R1drdMRFxULk"
      },
      "source": [
        "Your first task is to design and train an RNN model to predict the sentiment of a movie review. Your model should consist of an embedding layer followed by a RNN layers and a dense output layer with sigmoid activation."
      ]
    },
    {
      "cell_type": "code",
      "execution_count": 133,
      "metadata": {
        "id": "M0Wj-yiQwvsY"
      },
      "outputs": [
        {
          "name": "stdout",
          "output_type": "stream",
          "text": [
            "Model: \"sequential_7\"\n",
            "_________________________________________________________________\n",
            " Layer (type)                Output Shape              Param #   \n",
            "=================================================================\n",
            " embedding_8 (Embedding)     (None, 1000, 32)          32000     \n",
            "                                                                 \n",
            " simple_rnn_5 (SimpleRNN)    (None, 16)                784       \n",
            "                                                                 \n",
            " dense_8 (Dense)             (None, 1)                 17        \n",
            "                                                                 \n",
            "=================================================================\n",
            "Total params: 32,801\n",
            "Trainable params: 32,801\n",
            "Non-trainable params: 0\n",
            "_________________________________________________________________\n"
          ]
        }
      ],
      "source": [
        "# Building a Sequential Model with first an Embedding Layer then a Simple RNN Layer and then finally a Dense Layer\n",
        "\n",
        "embedding_size=32\n",
        "\n",
        "model = Sequential([Embedding(NUM_WORDS, embedding_size, input_length=max_words),\n",
        "                    SimpleRNN(16,input_shape = (NUM_WORDS,max_words), return_sequences=False,activation='relu'),\n",
        "                    Dense(1, activation='sigmoid')\n",
        "                    ])\n",
        "\n",
        "model.summary()\n",
        "\n",
        "model.compile(optimizer = \"rmsprop\" , loss = \"binary_crossentropy\", metrics=[\"acc\"])"
      ]
    },
    {
      "cell_type": "markdown",
      "metadata": {
        "id": "B3CIwXnnxdzx"
      },
      "source": [
        "## Train your model **[20 Points]**\n",
        "Use the training set to train the model and use the validation set to monitor the traning process. Make sure to use an appropriate loss function considering your task (classification) and model architecure."
      ]
    },
    {
      "cell_type": "code",
      "execution_count": 134,
      "metadata": {
        "id": "YRG_f5noxe97"
      },
      "outputs": [
        {
          "name": "stdout",
          "output_type": "stream",
          "text": [
            "Epoch 1/5\n",
            "176/176 [==============================] - 38s 205ms/step - loss: 0.6256 - acc: 0.6658 - val_loss: 0.5735 - val_acc: 0.7376\n",
            "Epoch 2/5\n",
            "176/176 [==============================] - 35s 201ms/step - loss: 1.0516 - acc: 0.7787 - val_loss: 0.4290 - val_acc: 0.8084\n",
            "Epoch 3/5\n",
            "176/176 [==============================] - 35s 200ms/step - loss: 0.4991 - acc: 0.8192 - val_loss: 0.4067 - val_acc: 0.8200\n",
            "Epoch 4/5\n",
            "176/176 [==============================] - 36s 202ms/step - loss: 0.4349 - acc: 0.8405 - val_loss: 0.3729 - val_acc: 0.8288\n",
            "Epoch 5/5\n",
            "176/176 [==============================] - 36s 204ms/step - loss: 0.3938 - acc: 0.8429 - val_loss: 0.3324 - val_acc: 0.8588\n"
          ]
        }
      ],
      "source": [
        "# Fit the model to the traning set\n",
        "\n",
        "early_stop = keras.callbacks.EarlyStopping(monitor='val_loss', patience=5)\n",
        "\n",
        "history = model.fit(x_train,y_train, validation_data = (x_val,y_val), epochs = 5, batch_size = 128, verbose = 1, callbacks=[early_stop])"
      ]
    },
    {
      "cell_type": "markdown",
      "metadata": {
        "id": "TmIEPDcP21kQ"
      },
      "source": [
        "## Plot the loss **[10 Points]**\n",
        "\n",
        "Plot the trend of training loss and validation loss with respect to epochs. You should use visualization libraries (e.g. matplotlib, seaborn) to show these plots."
      ]
    },
    {
      "cell_type": "code",
      "execution_count": 135,
      "metadata": {
        "id": "u2nHzvYJ21KD"
      },
      "outputs": [
        {
          "data": {
            "image/png": "[encoded data removed]",
            "text/plain": [
              "<Figure size 640x480 with 1 Axes>"
            ]
          },
          "metadata": {},
          "output_type": "display_data"
        }
      ],
      "source": [
        "hist = pd.DataFrame(history.history)\n",
        "\n",
        "def plot_history():\n",
        "    plt.figure()\n",
        "    plt.xlabel('Epoch')\n",
        "    plt.ylabel('Loss')\n",
        "    plt.plot(hist['loss'], label='Train Loss')\n",
        "    plt.plot(hist['val_loss'], label='Val Loss')\n",
        "    plt.legend()\n",
        "    plt.ylim([0, 1])\n",
        "\n",
        "plot_history()"
      ]
    },
    {
      "cell_type": "markdown",
      "metadata": {
        "id": "iHxrdiCexfkq"
      },
      "source": [
        "## Test the model on the test set **[10 Points]**\n",
        "Compute accuracy, F1 macro, precision, and recall scores of the model. You can use functions available in machine learning libraries such as `scikit-learn` to compute these metrics."
      ]
    },
    {
      "cell_type": "code",
      "execution_count": 136,
      "metadata": {
        "id": "FmdItlySzQIJ"
      },
      "outputs": [
        {
          "name": "stdout",
          "output_type": "stream",
          "text": [
            "782/782 [==============================] - 30s 36ms/step\n",
            "              precision    recall  f1-score   support\n",
            "\n",
            "    positive       0.85      0.86      0.86     12500\n",
            "    negative       0.86      0.85      0.85     12500\n",
            "\n",
            "    accuracy                           0.85     25000\n",
            "   macro avg       0.85      0.85      0.85     25000\n",
            "weighted avg       0.85      0.85      0.85     25000\n",
            "\n",
            "Confusion Matrix:\n",
            "[[10734  1766]\n",
            " [ 1861 10639]]\n"
          ]
        }
      ],
      "source": [
        "# Using the model to predict our test data\n",
        "\n",
        "predictions = (model.predict(x_test) > 0.5).astype(\"int32\")\n",
        "\n",
        "target_names = ['positive', 'negative']\n",
        "\n",
        "cnf_matrix_test = confusion_matrix(y_test, predictions)\n",
        "print(classification_report(y_test, predictions, target_names=target_names))\n",
        "\n",
        "print(\"Confusion Matrix:\")\n",
        "print(cnf_matrix_test)"
      ]
    },
    {
      "cell_type": "markdown",
      "metadata": {
        "id": "YlbzR-PG4O0Z"
      },
      "source": [
        "## See your model in action! **[15 Points]**\n",
        "\n",
        "In this section, you will evaluate your model's performance by testing it on a featured review from the IMDB page of \"Avatar: The Way of Water 2022\". Before feeding the review to the model, you will need to carry out any necessary preprocessing. Then, the model will output the likelihood of the message being a positive or negative review."
      ]
    },
    {
      "cell_type": "code",
      "execution_count": 140,
      "metadata": {
        "id": "a89JQqUe4N-8"
      },
      "outputs": [
        {
          "name": "stdout",
          "output_type": "stream",
          "text": [
            "i decided to <UNK> the first <UNK> last night before watching <UNK> 2 and i am always in <UNK> of how <UNK> the <UNK> are it was a and more <UNK> for the general audience however with the first <UNK> the story was <UNK> and simple it was rather <UNK> the thing is the <UNK> <UNK> has a simple story but it was told <UNK> the way of <UNK> was a <UNK> <UNK> <UNK> with every attempt <UNK> <UNK> <UNK> <UNK> <UNK> <UNK> but the message about <UNK> your loved ones is not new to us but it was <UNK> james <UNK> level of <UNK> <UNK> to the audience the <UNK> of every <UNK> are <UNK> and i can't help but wonder how on earth he has done that it is the simple plot <UNK> by such <UNK> <UNK> that has always been the <UNK> for almost all of <UNK> movies not just <UNK> <UNK> is not a bad thing just like in the first <UNK> characters are <UNK> a lot and there is not much emotional <UNK> during the first half however the <UNK> and <UNK> <UNK> during the second act were worth it this is the <UNK> for most films they will <UNK> you with <UNK> and <UNK> <UNK> but the story is not that <UNK> nor special for the audience to keep talking about it in the next 5 years the <UNK> world <UNK> takes us to is excellent and <UNK> <UNK> but the story is <UNK> the emotional <UNK> that made this film a <UNK> masterpiece though the <UNK> are still <UNK> it's difficult this time not to <UNK> the <UNK> of the story and the <UNK> character <UNK> the movie <UNK> you will remember from <UNK> a movie with <UNK> and <UNK> but the story <UNK> <UNK> some films are just <UNK> <UNK> and sometimes that's what <UNK> need and this is what <UNK> 2 <UNK> <UNK> 2 doesn't <UNK> check all those <UNK> to become a great film but what it does right will <UNK> viewers moments of <UNK> <UNK> and beauty you can easily watch the movie and points out its <UNK> and <UNK> but it is hard to <UNK> the fun and <UNK> the film <UNK> throughout its <UNK> minutes <UNK> it is clear that james <UNK> is making this movie for a general audience and while <UNK> it certainly seems to <UNK> its <UNK>\n",
            "<PAD> <PAD> <PAD> <PAD> <PAD> <PAD> <PAD> <PAD> <PAD> <PAD> <PAD> <PAD> <PAD> <PAD> <PAD> <PAD> <PAD> <PAD> <PAD> <PAD> <PAD> <PAD> <PAD> <PAD> <PAD> <PAD> <PAD> <PAD> <PAD> <PAD> <PAD> <PAD> <PAD> <PAD> <PAD> <PAD> <PAD> <PAD> <PAD> <PAD> <PAD> <PAD> <PAD> <PAD> <PAD> <PAD> <PAD> <PAD> <PAD> <PAD> <PAD> <PAD> <PAD> <PAD> <PAD> <PAD> <PAD> <PAD> <PAD> <PAD> <PAD> <PAD> <PAD> <PAD> <PAD> <PAD> <PAD> <PAD> <PAD> <PAD> <PAD> <PAD> <PAD> <PAD> <PAD> <PAD> <PAD> <PAD> <PAD> <PAD> <PAD> <PAD> <PAD> <PAD> <PAD> <PAD> <PAD> <PAD> <PAD> <PAD> <PAD> <PAD> <PAD> <PAD> <PAD> <PAD> <PAD> <PAD> <PAD> <PAD> <PAD> <PAD> <PAD> <PAD> <PAD> <PAD> <PAD> <PAD> <PAD> <PAD> <PAD> <PAD> <PAD> <PAD> <PAD> <PAD> <PAD> <PAD> <PAD> <PAD> <PAD> <PAD> <PAD> <PAD> <PAD> <PAD> <PAD> <PAD> <PAD> <PAD> <PAD> <PAD> <PAD> <PAD> <PAD> <PAD> <PAD> <PAD> <PAD> <PAD> <PAD> <PAD> <PAD> <PAD> <PAD> <PAD> <PAD> <PAD> <PAD> <PAD> <PAD> <PAD> <PAD> <PAD> <PAD> <PAD> <PAD> <PAD> <PAD> <PAD> <PAD> <PAD> <PAD> <PAD> <PAD> <PAD> <PAD> <PAD> <PAD> <PAD> <PAD> <PAD> <PAD> <PAD> <PAD> <PAD> <PAD> <PAD> <PAD> <PAD> <PAD> <PAD> <PAD> <PAD> <PAD> <PAD> <PAD> <PAD> <PAD> <PAD> <PAD> <PAD> <PAD> <PAD> <PAD> <PAD> <PAD> <PAD> <PAD> <PAD> <PAD> <PAD> <PAD> <PAD> <PAD> <PAD> <PAD> <PAD> <PAD> <PAD> <PAD> <PAD> <PAD> <PAD> <PAD> <PAD> <PAD> <PAD> <PAD> <PAD> <PAD> <PAD> <PAD> <PAD> <PAD> <PAD> <PAD> <PAD> <PAD> <PAD> <PAD> <PAD> <PAD> <PAD> <PAD> <PAD> <PAD> <PAD> <PAD> <PAD> <PAD> <PAD> <PAD> <PAD> <PAD> <PAD> <PAD> <PAD> <PAD> <PAD> <PAD> <PAD> <PAD> <PAD> <PAD> <PAD> <PAD> <PAD> <PAD> <PAD> <PAD> <PAD> <PAD> <PAD> <PAD> <PAD> <PAD> <PAD> <PAD> <PAD> <PAD> <PAD> <PAD> <PAD> <PAD> <PAD> <PAD> <PAD> <PAD> <PAD> <PAD> <PAD> <PAD> <PAD> <PAD> <PAD> <PAD> <PAD> <PAD> <PAD> <PAD> <PAD> <PAD> <PAD> <PAD> <PAD> <PAD> <PAD> <PAD> <PAD> <PAD> <PAD> <PAD> <PAD> <PAD> <PAD> <PAD> <PAD> <PAD> <PAD> <PAD> <PAD> <PAD> <PAD> <PAD> <PAD> <PAD> <PAD> <PAD> <PAD> <PAD> <PAD> <PAD> <PAD> <PAD> <PAD> <PAD> <PAD> <PAD> <PAD> <PAD> <PAD> <PAD> <PAD> <PAD> <PAD> <PAD> <PAD> <PAD> <PAD> <PAD> <PAD> <PAD> <PAD> <PAD> <PAD> <PAD> <PAD> <PAD> <PAD> <PAD> <PAD> <PAD> <PAD> <PAD> <PAD> <PAD> <PAD> <PAD> <PAD> <PAD> <PAD> <PAD> <PAD> <PAD> <PAD> <PAD> <PAD> <PAD> <PAD> <PAD> <PAD> <PAD> <PAD> <PAD> <PAD> <PAD> <PAD> <PAD> <PAD> <PAD> <PAD> <PAD> <PAD> <PAD> <PAD> <PAD> <PAD> <PAD> <PAD> <PAD> <PAD> <PAD> <PAD> <PAD> <PAD> <PAD> <PAD> <PAD> <PAD> <PAD> <PAD> <PAD> <PAD> <PAD> <PAD> <PAD> <PAD> <PAD> <PAD> <PAD> <PAD> <PAD> <PAD> <PAD> <PAD> <PAD> <PAD> <PAD> <PAD> <PAD> <PAD> <PAD> <PAD> <PAD> <PAD> <PAD> <PAD> <PAD> <PAD> <PAD> <PAD> <PAD> <PAD> <PAD> <PAD> <PAD> <PAD> <PAD> <PAD> <PAD> <PAD> <PAD> <PAD> <PAD> <PAD> <PAD> <PAD> <PAD> <PAD> <PAD> <PAD> <PAD> <PAD> <PAD> <PAD> <PAD> <PAD> <PAD> <PAD> <PAD> <PAD> <PAD> <PAD> <PAD> <PAD> <PAD> <PAD> <PAD> <PAD> <PAD> <PAD> <PAD> <PAD> <PAD> <PAD> <PAD> <PAD> <PAD> <PAD> <PAD> <PAD> <PAD> <PAD> <PAD> <PAD> <PAD> <PAD> <PAD> <PAD> <PAD> <PAD> <PAD> <PAD> <PAD> <PAD> <PAD> <PAD> <PAD> <PAD> <PAD> <PAD> <PAD> <PAD> <PAD> <PAD> <PAD> <PAD> <PAD> <PAD> <PAD> <PAD> <PAD> <PAD> <PAD> <PAD> <PAD> <PAD> <PAD> <PAD> <PAD> <PAD> <PAD> <PAD> <PAD> <PAD> <PAD> <PAD> <PAD> <PAD> <PAD> <PAD> <PAD> <PAD> <PAD> <PAD> <PAD> <PAD> <PAD> <PAD> <PAD> <PAD> <PAD> <PAD> <PAD> <PAD> <PAD> <PAD> <PAD> <PAD> <PAD> <PAD> <PAD> <PAD> <PAD> <PAD> <PAD> <PAD> <PAD> <PAD> <PAD> <PAD> <PAD> <PAD> <PAD> <PAD> <PAD> <PAD> <PAD> <PAD> <PAD> <PAD> <PAD> <PAD> <PAD> <PAD> <PAD> <PAD> <PAD> <PAD> <PAD> <PAD> <PAD> <PAD> <PAD> <PAD> <PAD> <PAD> <PAD> <PAD> <PAD> <PAD> <PAD> <PAD> <PAD> <PAD> <PAD> i decided to <UNK> the first <UNK> last night before watching <UNK> 2 and i am always in <UNK> of how <UNK> the <UNK> are it was a and more <UNK> for the general audience however with the first <UNK> the story was <UNK> and simple it was rather <UNK> the thing is the <UNK> <UNK> has a simple story but it was told <UNK> the way of <UNK> was a <UNK> <UNK> <UNK> with every attempt <UNK> <UNK> <UNK> <UNK> <UNK> <UNK> but the message about <UNK> your loved ones is not new to us but it was <UNK> james <UNK> level of <UNK> <UNK> to the audience the <UNK> of every <UNK> are <UNK> and i can't help but wonder how on earth he has done that it is the simple plot <UNK> by such <UNK> <UNK> that has always been the <UNK> for almost all of <UNK> movies not just <UNK> <UNK> is not a bad thing just like in the first <UNK> characters are <UNK> a lot and there is not much emotional <UNK> during the first half however the <UNK> and <UNK> <UNK> during the second act were worth it this is the <UNK> for most films they will <UNK> you with <UNK> and <UNK> <UNK> but the story is not that <UNK> nor special for the audience to keep talking about it in the next 5 years the <UNK> world <UNK> takes us to is excellent and <UNK> <UNK> but the story is <UNK> the emotional <UNK> that made this film a <UNK> masterpiece though the <UNK> are still <UNK> it's difficult this time not to <UNK> the <UNK> of the story and the <UNK> character <UNK> the movie <UNK> you will remember from <UNK> a movie with <UNK> and <UNK> but the story <UNK> <UNK> some films are just <UNK> <UNK> and sometimes that's what <UNK> need and this is what <UNK> 2 <UNK> <UNK> 2 doesn't <UNK> check all those <UNK> to become a great film but what it does right will <UNK> viewers moments of <UNK> <UNK> and beauty you can easily watch the movie and points out its <UNK> and <UNK> but it is hard to <UNK> the fun and <UNK> the film <UNK> throughout its <UNK> minutes <UNK> it is clear that james <UNK> is making this movie for a general audience and while <UNK> it certainly seems to <UNK> its <UNK>\n",
            "1/1 [==============================] - 0s 50ms/step\n",
            "Positive\n"
          ]
        }
      ],
      "source": [
        "avatar_review = \"I decided to rewatch the first Avatar last night before watching Avatar 2 and I am always in awe of how stunning the visuals are; \\\n",
        "                 it was a crowd-pleaser and more agreeable for the general audience. However, with the first Avatar, the story was basic and \\\n",
        "                 simple it was rather forgettable. The thing is, the Avatar franchise has a simple story but it was told grandly. 'Avatar: The \\\n",
        "                 Way of Water' was a captivating visual feast, with every attempt beautifully framed via painstakingly flawless CGI, but the \\\n",
        "                 message about protecting your loved ones is not new to us, but it was ingenious. James Cameron's level of perfectionism translates \\\n",
        "                 to the audience; the details of every frame are precise and I can't help but wonder how on earth he has done that. It is the simple \\\n",
        "                 plot accompanied by such technical achievement that has always been the formula for almost all of Cameron's movies, not just Avatar. \\\n",
        "                 Simplicity is not a bad thing. Just like in the first Avatar, characters are established a lot, and there is not much emotional \\\n",
        "                 attachment during the first half. However, the thrill and excitement peaked during the second act were worth it. This is the trick \\\n",
        "                 for most highly-budget films, they will entice you with visual and technical achievement, but the story is not that grand nor special \\\n",
        "                 for the audience to keep talking about it in the next 5 years. The Pandora world Cameron takes us to is excellent and magnificently \\\n",
        "                 conceptualized, but the story is missing the emotional draw that made this film a pretentious masterpiece. Though the visuals are \\\n",
        "                 still magnificent, it's difficult this time not to recognize the repetition of the story and the limited character arcs the movie \\\n",
        "                 presented. You will remember Avatar---aside from blue people---as a movie with impeccable and out-of-this-world visuals, but the \\\n",
        "                 story remains forgettable.  Some films are just pure escapism and sometimes that's what audiences need, and this is what Avatar 2 \\\n",
        "                 delivered. Avatar 2 doesn't necessarily check all those boxes to become a great film, but what it does right will offer viewers \\\n",
        "                 moments of astonishment, full-body immersion, and beauty. You can easily watch the movie and points out its mistakes and flaws, but \\\n",
        "                 it is hard to resist the fun and adventure the film delivers throughout its 192 minutes runtime. It is clear that James Cameron is \\\n",
        "                 making this movie for a general audience, and while imperfect, it certainly seems to serve its purpose.\"\n",
        "\n",
        "# Removing Extra Spaces\n",
        "avatar_review = ' '.join(avatar_review.split())\n",
        "\n",
        "# Removing Special Characters except mentioned below\n",
        "allowed_chars = \"abcdefghijklmnopqrstuvwxyzABCDEFGHIJKLMNOPQRSTUVWXYZ0123456789'- \"\n",
        "avatar_review = ''.join([char for char in avatar_review if char in allowed_chars])\n",
        "\n",
        "# Lowering Case and Splitting the string into a list of words\n",
        "avatar_review = avatar_review.lower()\n",
        "avatar_review = list(avatar_review.split(\" \"))\n",
        "\n",
        "# Removing words that are not present in the word index\n",
        "avatar_review = [word_to_id[word] for word in avatar_review if word in word_to_id]\n",
        "\n",
        "# Converting List into a Sequence\n",
        "avatar_review = [avatar_review]\n",
        "\n",
        "# Changing the letters not in dictionary to [unk] i.e. 3\n",
        "for i, sequence in enumerate(avatar_review):\n",
        "    for j, index in enumerate(sequence):\n",
        "        if index >= NUM_WORDS:\n",
        "            avatar_review[i][j] = 2\n",
        "\n",
        "print(' '.join(id_to_word[id] for id in avatar_review[0] ))\n",
        "\n",
        "# Padding Sequences\n",
        "avatar_review = pad_sequences(avatar_review, maxlen=max_words)\n",
        "print(' '.join(id_to_word[id] for id in avatar_review[0] ))\n",
        "\n",
        "# Prediction Using Built Model\n",
        "pre = (model.predict(avatar_review) > 0.5).astype(\"int32\")\n",
        "print(\"Positive\" if pre else \"Negative\")"
      ]
    },
    {
      "cell_type": "markdown",
      "metadata": {
        "id": "KoABepOv6lJJ"
      },
      "source": [
        "# Try the same with LSTM **[Extra 15 Points]**\n",
        "Design, train, and evaluate a new model using LSTM. Then, compare the model's performance with the previous one."
      ]
    },
    {
      "attachments": {},
      "cell_type": "markdown",
      "metadata": {},
      "source": [
        "### Desigining Model"
      ]
    },
    {
      "cell_type": "code",
      "execution_count": 125,
      "metadata": {
        "id": "beyx7Wgh6jGS"
      },
      "outputs": [
        {
          "name": "stdout",
          "output_type": "stream",
          "text": [
            "Model: \"sequential_6\"\n",
            "_________________________________________________________________\n",
            " Layer (type)                Output Shape              Param #   \n",
            "=================================================================\n",
            " embedding_7 (Embedding)     (None, 1000, 32)          32000     \n",
            "                                                                 \n",
            " lstm_2 (LSTM)               (None, 64)                24832     \n",
            "                                                                 \n",
            " dense_7 (Dense)             (None, 1)                 65        \n",
            "                                                                 \n",
            "=================================================================\n",
            "Total params: 56,897\n",
            "Trainable params: 56,897\n",
            "Non-trainable params: 0\n",
            "_________________________________________________________________\n"
          ]
        }
      ],
      "source": [
        "#Designing Model for LSTM\n",
        "\n",
        "embedding_size = 32\n",
        "\n",
        "model = Sequential([Embedding(NUM_WORDS, embedding_size, input_length=max_words),\n",
        "                    LSTM(64,dropout = 0.2, recurrent_dropout = 0.2),\n",
        "                    Dense(1, activation='sigmoid')\n",
        "                    ])\n",
        "\n",
        "model.summary()\n",
        "\n",
        "model.compile(optimizer = \"rmsprop\" , loss = \"binary_crossentropy\", metrics=[\"acc\"])"
      ]
    },
    {
      "attachments": {},
      "cell_type": "markdown",
      "metadata": {},
      "source": [
        "### Training Model"
      ]
    },
    {
      "cell_type": "code",
      "execution_count": 126,
      "metadata": {},
      "outputs": [
        {
          "name": "stdout",
          "output_type": "stream",
          "text": [
            "Epoch 1/5\n",
            "782/782 [==============================] - 629s 795ms/step - loss: 0.5022 - acc: 0.7475 - val_loss: 0.3611 - val_acc: 0.8508\n",
            "Epoch 2/5\n",
            "782/782 [==============================] - 554s 708ms/step - loss: 0.3862 - acc: 0.8370 - val_loss: 0.3680 - val_acc: 0.8400\n",
            "Epoch 3/5\n",
            "782/782 [==============================] - 566s 724ms/step - loss: 0.3627 - acc: 0.8490 - val_loss: 0.3766 - val_acc: 0.8616\n",
            "Epoch 4/5\n",
            "782/782 [==============================] - 544s 696ms/step - loss: 0.3469 - acc: 0.8578 - val_loss: 0.3631 - val_acc: 0.8600\n",
            "Epoch 5/5\n",
            "782/782 [==============================] - 519s 663ms/step - loss: 0.3384 - acc: 0.8584 - val_loss: 0.3113 - val_acc: 0.8772\n"
          ]
        }
      ],
      "source": [
        "# Fit the model to the traning set\n",
        "\n",
        "early_stop = keras.callbacks.EarlyStopping(monitor='val_loss', patience=5)\n",
        "\n",
        "history = model.fit(x_train,y_train, validation_data = (x_val,y_val), epochs = 5, batch_size = 32, verbose = 1, callbacks=[early_stop])"
      ]
    },
    {
      "attachments": {},
      "cell_type": "markdown",
      "metadata": {},
      "source": [
        "### Plotting Loss"
      ]
    },
    {
      "cell_type": "code",
      "execution_count": 127,
      "metadata": {},
      "outputs": [
        {
          "data": {
            "image/png": "[encoded data removed]",
            "text/plain": [
              "<Figure size 640x480 with 1 Axes>"
            ]
          },
          "metadata": {},
          "output_type": "display_data"
        }
      ],
      "source": [
        "hist = pd.DataFrame(history.history)\n",
        "\n",
        "def plot_history():\n",
        "    plt.figure()\n",
        "    plt.xlabel('Epoch')\n",
        "    plt.ylabel('Loss')\n",
        "    plt.plot(hist['loss'], label='Train Loss')\n",
        "    plt.plot(hist['val_loss'], label='Val Loss')\n",
        "    plt.legend()\n",
        "    plt.ylim([0, 1])\n",
        "\n",
        "plot_history()"
      ]
    },
    {
      "attachments": {},
      "cell_type": "markdown",
      "metadata": {},
      "source": [
        "### Testing Model on Test Set"
      ]
    },
    {
      "cell_type": "code",
      "execution_count": 128,
      "metadata": {},
      "outputs": [
        {
          "name": "stdout",
          "output_type": "stream",
          "text": [
            "782/782 [==============================] - 80s 101ms/step\n",
            "              precision    recall  f1-score   support\n",
            "\n",
            "    positive       0.86      0.87      0.86     12500\n",
            "    negative       0.87      0.86      0.86     12500\n",
            "\n",
            "    accuracy                           0.86     25000\n",
            "   macro avg       0.86      0.86      0.86     25000\n",
            "weighted avg       0.86      0.86      0.86     25000\n",
            "\n",
            "Confusion Matrix:\n",
            "[[10829  1671]\n",
            " [ 1779 10721]]\n"
          ]
        }
      ],
      "source": [
        "# Using the model to predict our test data\n",
        "\n",
        "predictions = (model.predict(x_test) > 0.5).astype(\"int32\")\n",
        "\n",
        "target_names = ['positive', 'negative']\n",
        "\n",
        "cnf_matrix_test = confusion_matrix(y_test, predictions)\n",
        "print(classification_report(y_test, predictions, target_names=target_names))\n",
        "\n",
        "print(\"Confusion Matrix:\")\n",
        "print(cnf_matrix_test)"
      ]
    }
  ],
  "metadata": {
    "colab": {
      "provenance": []
    },
    "kernelspec": {
      "display_name": "Python 3",
      "name": "python3"
    },
    "language_info": {
      "codemirror_mode": {
        "name": "ipython",
        "version": 3
      },
      "file_extension": ".py",
      "mimetype": "text/x-python",
      "name": "python",
      "nbconvert_exporter": "python",
      "pygments_lexer": "ipython3",
      "version": "3.10.9"
    }
  },
  "nbformat": 4,
  "nbformat_minor": 0
}
